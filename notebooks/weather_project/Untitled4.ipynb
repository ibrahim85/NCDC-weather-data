{
 "metadata": {
  "name": "",
  "signature": "sha256:d324f8959aa91fdeaae689535a2a1a17218cc7db47bcffecd3043977e5f16a51"
 },
 "nbformat": 3,
 "nbformat_minor": 0,
 "worksheets": [
  {
   "cells": [
    {
     "cell_type": "markdown",
     "metadata": {},
     "source": [
      "Modelling Stations with MDL clustering for MEAN TEMPERATURE"
     ]
    },
    {
     "cell_type": "markdown",
     "metadata": {},
     "source": [
      "We have used Mean Temperature readings available in GSOD Dataset to hierarchially partition the stations into different clustering. \n",
      "We define 'count' as the number of years which have more than 50% readings or TEMP. \n",
      "The spliiting is done alterntively between latitudes and longitudes such that sum of counts is same around the split. The stopping criterion used for splitting is either the group has <1000 rows of data or it's wdith/length is < 5 degrees. <br />\n",
      "\n",
      "Here is the initial partioning we get with splitting using KD Trees (~230 clusters)"
     ]
    },
    {
     "cell_type": "code",
     "collapsed": false,
     "input": [
      "'before_mdl.png'"
     ],
     "language": "python",
     "metadata": {},
     "outputs": []
    },
    {
     "cell_type": "markdown",
     "metadata": {},
     "source": [
      "Then we use MDL criterion to merge the stations <br />\n",
      "If P1 and P2 are neighbors, we check if MDL(P1+P2) < MDL(P1) + MDL(P2). If so, we merge P1 and P2. If not, we check other partitions. We have \n",
      "This is done till no merging is possible.\n",
      "\n",
      "We have tuned the inequality with an offset to get reasonable number of clusters. Here is the final partioning we get with splitting using KD Trees (~ 14 clusters)"
     ]
    },
    {
     "cell_type": "code",
     "collapsed": false,
     "input": [
      "'after_mdl.png'"
     ],
     "language": "python",
     "metadata": {},
     "outputs": []
    },
    {
     "cell_type": "markdown",
     "metadata": {},
     "source": [
      "We can see that most of the clusters are formed around equator showing that most of the temperature variance can be seen around it. "
     ]
    },
    {
     "cell_type": "code",
     "collapsed": false,
     "input": [],
     "language": "python",
     "metadata": {},
     "outputs": []
    }
   ],
   "metadata": {}
  }
 ]
}