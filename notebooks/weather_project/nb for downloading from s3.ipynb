{
 "metadata": {
  "name": "",
  "signature": "sha256:903d50cd3a642375a5d18cdc05c08496d13d9937b8b233b188c862a5ed37f78d"
 },
 "nbformat": 3,
 "nbformat_minor": 0,
 "worksheets": [
  {
   "cells": [
    {
     "cell_type": "code",
     "collapsed": false,
     "input": [
      "!s3cmd get s3://weather.raw_data/gsod.all.tsv.gz gsod.all.tsv.gz"
     ],
     "language": "python",
     "metadata": {},
     "outputs": [
      {
       "output_type": "stream",
       "stream": "stdout",
       "text": [
        "s3://weather.raw_data/gsod.all.tsv.gz -> gsod.all.tsv.gz  [1 of 1]\r\n"
       ]
      },
      {
       "output_type": "stream",
       "stream": "stdout",
       "text": [
        "\r",
        "       4096 of 2467290998     0% in    0s    44.57 kB/s"
       ]
      },
      {
       "output_type": "stream",
       "stream": "stdout",
       "text": [
        "\r",
        "   32800768 of 2467290998     1% in    1s    28.70 MB/s"
       ]
      },
      {
       "output_type": "stream",
       "stream": "stdout",
       "text": [
        "\r",
        "   92389376 of 2467290998     3% in    2s    42.16 MB/s"
       ]
      },
      {
       "output_type": "stream",
       "stream": "stdout",
       "text": [
        "\r",
        "  121393152 of 2467290998     4% in    3s    37.35 MB/s"
       ]
      },
      {
       "output_type": "stream",
       "stream": "stdout",
       "text": [
        "\r",
        "  155979776 of 2467290998     6% in    4s    36.28 MB/s"
       ]
      },
      {
       "output_type": "stream",
       "stream": "stdout",
       "text": [
        "\r",
        "  190296064 of 2467290998     7% in    5s    35.59 MB/s"
       ]
      },
      {
       "output_type": "stream",
       "stream": "stdout",
       "text": [
        "\r",
        "  226029568 of 2467290998     9% in    6s    35.34 MB/s"
       ]
      },
      {
       "output_type": "stream",
       "stream": "stdout",
       "text": [
        "\r",
        "  260460544 of 2467290998    10% in    7s    34.99 MB/s"
       ]
      },
      {
       "output_type": "stream",
       "stream": "stdout",
       "text": [
        "\r",
        "  293416960 of 2467290998    11% in    8s    34.55 MB/s"
       ]
      },
      {
       "output_type": "stream",
       "stream": "stdout",
       "text": [
        "\r",
        "  326656000 of 2467290998    13% in    9s    34.22 MB/s"
       ]
      },
      {
       "output_type": "stream",
       "stream": "stdout",
       "text": [
        "\r",
        "  357249024 of 2467290998    14% in   10s    33.72 MB/s"
       ]
      },
      {
       "output_type": "stream",
       "stream": "stdout",
       "text": [
        "\r",
        "  396521472 of 2467290998    16% in   11s    34.06 MB/s"
       ]
      },
      {
       "output_type": "stream",
       "stream": "stdout",
       "text": [
        "\r",
        "  444461056 of 2467290998    18% in   12s    35.02 MB/s"
       ]
      },
      {
       "output_type": "stream",
       "stream": "stdout",
       "text": [
        "\r",
        "  470790144 of 2467290998    19% in   13s    34.26 MB/s"
       ]
      },
      {
       "output_type": "stream",
       "stream": "stdout",
       "text": [
        "\r",
        "  530595840 of 2467290998    21% in   14s    35.85 MB/s"
       ]
      },
      {
       "output_type": "stream",
       "stream": "stdout",
       "text": [
        "\r",
        "  571609088 of 2467290998    23% in   15s    36.07 MB/s"
       ]
      },
      {
       "output_type": "stream",
       "stream": "stdout",
       "text": [
        "\r",
        "  616349696 of 2467290998    24% in   16s    36.48 MB/s"
       ]
      },
      {
       "output_type": "stream",
       "stream": "stdout",
       "text": [
        "\r",
        "  660340736 of 2467290998    26% in   17s    36.79 MB/s"
       ]
      },
      {
       "output_type": "stream",
       "stream": "stdout",
       "text": [
        "\r",
        "  700035072 of 2467290998    28% in   18s    36.84 MB/s"
       ]
      },
      {
       "output_type": "stream",
       "stream": "stdout",
       "text": [
        "\r",
        "  752066560 of 2467290998    30% in   19s    37.51 MB/s"
       ]
      },
      {
       "output_type": "stream",
       "stream": "stdout",
       "text": [
        "\r",
        "  787017728 of 2467290998    31% in   20s    37.09 MB/s"
       ]
      },
      {
       "output_type": "stream",
       "stream": "stdout",
       "text": [
        "\r",
        "  846667776 of 2467290998    34% in   21s    38.02 MB/s"
       ]
      },
      {
       "output_type": "stream",
       "stream": "stdout",
       "text": [
        "\r",
        "  882868224 of 2467290998    35% in   22s    37.87 MB/s"
       ]
      },
      {
       "output_type": "stream",
       "stream": "stdout",
       "text": [
        "\r",
        "  931692544 of 2467290998    37% in   23s    38.24 MB/s"
       ]
      },
      {
       "output_type": "stream",
       "stream": "stdout",
       "text": [
        "\r",
        "  998281216 of 2467290998    40% in   24s    39.28 MB/s"
       ]
      },
      {
       "output_type": "stream",
       "stream": "stdout",
       "text": [
        "\r",
        " 1065418752 of 2467290998    43% in   25s    40.26 MB/s"
       ]
      },
      {
       "output_type": "stream",
       "stream": "stdout",
       "text": [
        "\r",
        " 1106538496 of 2467290998    44% in   26s    40.22 MB/s"
       ]
      },
      {
       "output_type": "stream",
       "stream": "stdout",
       "text": [
        "\r",
        " 1134063616 of 2467290998    45% in   27s    39.71 MB/s"
       ]
      },
      {
       "output_type": "stream",
       "stream": "stdout",
       "text": [
        "\r",
        " 1152000000 of 2467290998    46% in   28s    38.88 MB/s"
       ]
      },
      {
       "output_type": "stream",
       "stream": "stdout",
       "text": [
        "\r",
        " 1174061056 of 2467290998    47% in   29s    38.27 MB/s"
       ]
      },
      {
       "output_type": "stream",
       "stream": "stdout",
       "text": [
        "\r",
        " 1209425920 of 2467290998    49% in   30s    38.12 MB/s"
       ]
      },
      {
       "output_type": "stream",
       "stream": "stdout",
       "text": [
        "\r",
        " 1249443840 of 2467290998    50% in   31s    38.12 MB/s"
       ]
      },
      {
       "output_type": "stream",
       "stream": "stdout",
       "text": [
        "\r",
        " 1302257664 of 2467290998    52% in   32s    38.50 MB/s"
       ]
      },
      {
       "output_type": "stream",
       "stream": "stdout",
       "text": [
        "\r",
        " 1341005824 of 2467290998    54% in   33s    38.45 MB/s"
       ]
      },
      {
       "output_type": "stream",
       "stream": "stdout",
       "text": [
        "\r",
        " 1381203968 of 2467290998    55% in   34s    38.45 MB/s"
       ]
      },
      {
       "output_type": "stream",
       "stream": "stdout",
       "text": [
        "\r",
        " 1412362240 of 2467290998    57% in   35s    38.20 MB/s"
       ]
      },
      {
       "output_type": "stream",
       "stream": "stdout",
       "text": [
        "\r",
        " 1460989952 of 2467290998    59% in   36s    38.41 MB/s"
       ]
      },
      {
       "output_type": "stream",
       "stream": "stdout",
       "text": [
        "\r",
        " 1503948800 of 2467290998    60% in   37s    38.48 MB/s"
       ]
      },
      {
       "output_type": "stream",
       "stream": "stdout",
       "text": [
        "\r",
        " 1544196096 of 2467290998    62% in   38s    38.47 MB/s"
       ]
      },
      {
       "output_type": "stream",
       "stream": "stdout",
       "text": [
        "\r",
        " 1583661056 of 2467290998    64% in   39s    38.45 MB/s"
       ]
      },
      {
       "output_type": "stream",
       "stream": "stdout",
       "text": [
        "\r",
        " 1630371840 of 2467290998    66% in   40s    38.60 MB/s"
       ]
      },
      {
       "output_type": "stream",
       "stream": "stdout",
       "text": [
        "\r",
        " 1679790080 of 2467290998    68% in   41s    38.70 MB/s"
       ]
      },
      {
       "output_type": "stream",
       "stream": "stdout",
       "text": [
        "\r",
        " 1728757760 of 2467290998    70% in   42s    38.88 MB/s"
       ]
      },
      {
       "output_type": "stream",
       "stream": "stdout",
       "text": [
        "\r",
        " 1775554560 of 2467290998    71% in   43s    39.01 MB/s"
       ]
      },
      {
       "output_type": "stream",
       "stream": "stdout",
       "text": [
        "\r",
        " 1825472512 of 2467290998    73% in   44s    39.20 MB/s"
       ]
      },
      {
       "output_type": "stream",
       "stream": "stdout",
       "text": [
        "\r",
        " 1878130688 of 2467290998    76% in   45s    39.44 MB/s"
       ]
      },
      {
       "output_type": "stream",
       "stream": "stdout",
       "text": [
        "\r",
        " 1929711616 of 2467290998    78% in   46s    39.65 MB/s"
       ]
      },
      {
       "output_type": "stream",
       "stream": "stdout",
       "text": [
        "\r",
        " 1969344512 of 2467290998    79% in   47s    39.62 MB/s"
       ]
      },
      {
       "output_type": "stream",
       "stream": "stdout",
       "text": [
        "\r",
        " 2040680448 of 2467290998    82% in   48s    40.20 MB/s"
       ]
      },
      {
       "output_type": "stream",
       "stream": "stdout",
       "text": [
        "\r",
        " 2095747072 of 2467290998    84% in   49s    40.45 MB/s"
       ]
      },
      {
       "output_type": "stream",
       "stream": "stdout",
       "text": [
        "\r",
        " 2141224960 of 2467290998    86% in   50s    40.51 MB/s"
       ]
      },
      {
       "output_type": "stream",
       "stream": "stdout",
       "text": [
        "\r",
        " 2165207040 of 2467290998    87% in   51s    40.16 MB/s"
       ]
      },
      {
       "output_type": "stream",
       "stream": "stdout",
       "text": [
        "\r",
        " 2192068608 of 2467290998    88% in   52s    39.88 MB/s"
       ]
      },
      {
       "output_type": "stream",
       "stream": "stdout",
       "text": [
        "\r",
        " 2211008512 of 2467290998    89% in   53s    39.47 MB/s"
       ]
      },
      {
       "output_type": "stream",
       "stream": "stdout",
       "text": [
        "\r",
        " 2225385472 of 2467290998    90% in   54s    39.00 MB/s"
       ]
      },
      {
       "output_type": "stream",
       "stream": "stdout",
       "text": [
        "\r",
        " 2239500288 of 2467290998    90% in   55s    38.53 MB/s"
       ]
      },
      {
       "output_type": "stream",
       "stream": "stdout",
       "text": [
        "\r",
        " 2256211968 of 2467290998    91% in   56s    38.13 MB/s"
       ]
      },
      {
       "output_type": "stream",
       "stream": "stdout",
       "text": [
        "\r",
        " 2274447360 of 2467290998    92% in   57s    37.76 MB/s"
       ]
      },
      {
       "output_type": "stream",
       "stream": "stdout",
       "text": [
        "\r",
        " 2292682752 of 2467290998    92% in   58s    37.41 MB/s"
       ]
      },
      {
       "output_type": "stream",
       "stream": "stdout",
       "text": [
        "\r",
        " 2310918144 of 2467290998    93% in   59s    37.06 MB/s"
       ]
      },
      {
       "output_type": "stream",
       "stream": "stdout",
       "text": [
        "\r",
        " 2333499392 of 2467290998    94% in   60s    36.81 MB/s"
       ]
      },
      {
       "output_type": "stream",
       "stream": "stdout",
       "text": [
        "\r",
        " 2358906880 of 2467290998    95% in   61s    36.60 MB/s"
       ]
      },
      {
       "output_type": "stream",
       "stream": "stdout",
       "text": [
        "\r",
        " 2382123008 of 2467290998    96% in   62s    36.37 MB/s"
       ]
      },
      {
       "output_type": "stream",
       "stream": "stdout",
       "text": [
        "\r",
        " 2406658048 of 2467290998    97% in   63s    36.16 MB/s"
       ]
      },
      {
       "output_type": "stream",
       "stream": "stdout",
       "text": [
        "\r",
        " 2428805120 of 2467290998    98% in   64s    35.93 MB/s"
       ]
      },
      {
       "output_type": "stream",
       "stream": "stdout",
       "text": [
        "\r",
        " 2455937024 of 2467290998    99% in   65s    35.78 MB/s"
       ]
      },
      {
       "output_type": "stream",
       "stream": "stdout",
       "text": [
        "\r",
        " 2467290998 of 2467290998   100% in   65s    35.71 MB/s  done\r\n"
       ]
      }
     ],
     "prompt_number": 9
    },
    {
     "cell_type": "code",
     "collapsed": false,
     "input": [
      "!s3cmd put gsod.all.tsv_1024 s3://vineel-bucket/gsod.all.tsv_1024"
     ],
     "language": "python",
     "metadata": {},
     "outputs": [
      {
       "output_type": "stream",
       "stream": "stdout",
       "text": [
        "WARNING: Module python-magic is not available. Guessing MIME types based on file extensions.\r\n"
       ]
      },
      {
       "output_type": "stream",
       "stream": "stdout",
       "text": [
        "gsod.all.tsv_1024 -> s3://vineel-bucket/gsod.all.tsv_1024  [1 of 1]\r\n",
        "\r",
        "     4096 of 11843163     0% in    0s   542.01 kB/s"
       ]
      },
      {
       "output_type": "stream",
       "stream": "stdout",
       "text": [
        "\r",
        " 11843163 of 11843163   100% in    0s    22.15 MB/s  done\r\n"
       ]
      }
     ],
     "prompt_number": 1
    },
    {
     "cell_type": "code",
     "collapsed": false,
     "input": [],
     "language": "python",
     "metadata": {},
     "outputs": []
    }
   ],
   "metadata": {}
  }
 ]
}