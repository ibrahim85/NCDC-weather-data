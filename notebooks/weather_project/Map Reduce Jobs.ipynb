{
 "metadata": {
  "name": "",
  "signature": "sha256:b43e7bdb95efd5cc9d3bb227454724196aeec95cef09e1dd23d887c2aacb7b1d"
 },
 "nbformat": 3,
 "nbformat_minor": 0,
 "worksheets": [
  {
   "cells": [
    {
     "cell_type": "code",
     "collapsed": false,
     "input": [
      "%%writefile MeanReadings.py\n",
      "\n",
      "#!/usr/bin/python\n",
      "\"\"\"To find mean min and max temp for each station\"\"\"\n",
      "import re,pickle,base64,zlib\n",
      "import sys\n",
      "import numpy as np\n",
      "from StringIO import StringIO\n",
      "sys.path.append('/usr/lib/python2.6/dist-packages') \n",
      "from mrjob.job import MRJob  \n",
      "\n",
      "class MeanReadings(MRJob):\n",
      "    \n",
      "    def mapper(self, _, line):\n",
      "        self.increment_counter('MrJob Counters','mapper',1)\n",
      "        elements = line.split(',')\n",
      "        #values = np.genfromtxt(StringIO(line[22:]), delimiter=\",\")\n",
      "        yield(elements[0],line[22:])\n",
      "        \n",
      "    def reducer(self, station, readings):\n",
      "        readings = list(readings)\n",
      "        self.increment_counter('MrJob Counters','reducer',1)\n",
      "        avg = np.zeros((1,730))\n",
      "        avg_var = np.zeros((1,730))\n",
      "        count = np.zeros((1,730),dtype=float)\n",
      "        values = np.zeros((1,730))\n",
      "        for each in readings:\n",
      "            v = each.strip().split(',') \n",
      "            for i in range(len(v)):\n",
      "                if v[i]=='': values[0,i] = np.nan\n",
      "                else: values[0,i] = int(v[i])\n",
      "            count = count + np.isfinite(values)\n",
      "            values[np.isnan(values)] = 0\n",
      "            avg = avg + values\n",
      "        avg = avg/count\n",
      "        for each in readings:\n",
      "            v = each.strip().split(',') \n",
      "            for i in range(len(v)):\n",
      "                if v[i]=='': values[0,i] = 0\n",
      "                else: values[0,i] = int(v[i])-avg[0,i]\n",
      "            avg_var = avg_var + np.square(values)\n",
      "        avg_var = np.sqrt(avg_var/count)\n",
      "        data = (avg, avg_var, count)\n",
      "        yield(station, pickle.dumps(data))               \n",
      "\n",
      "if __name__ == '__main__':\n",
      "    MeanReadings.run()"
     ],
     "language": "python",
     "metadata": {},
     "outputs": [
      {
       "output_type": "stream",
       "stream": "stdout",
       "text": [
        "Overwriting MeanReadings.py\n"
       ]
      }
     ],
     "prompt_number": 48
    },
    {
     "cell_type": "code",
     "collapsed": false,
     "input": [
      "import time\n",
      "t1 = time.clock()\n",
      "!python MeanReadings.py test \n",
      "t2 = time.clock()\n",
      "print \"time taken is\", t2-t1"
     ],
     "language": "python",
     "metadata": {},
     "outputs": [
      {
       "output_type": "stream",
       "stream": "stdout",
       "text": [
        "time taken is 0.0\n"
       ]
      }
     ],
     "prompt_number": 47
    },
    {
     "cell_type": "code",
     "collapsed": false,
     "input": [
      "#!grep \"^AG000060611\" test"
     ],
     "language": "python",
     "metadata": {},
     "outputs": [],
     "prompt_number": 46
    },
    {
     "cell_type": "code",
     "collapsed": false,
     "input": [
      "!cd /home/ubuntu/UCSD_BigData/notebooks/weather_project/"
     ],
     "language": "python",
     "metadata": {},
     "outputs": [],
     "prompt_number": 49
    },
    {
     "cell_type": "code",
     "collapsed": false,
     "input": [
      "#Importing all the required modules\n",
      "\n",
      "import os, sys, numpy, base64, zlib, pickle\n",
      "import pandas as pd\n",
      "import cPickle as cpkl\n",
      "from scipy.sparse import *\n",
      "from scipy import *"
     ],
     "language": "python",
     "metadata": {},
     "outputs": [],
     "prompt_number": 4
    },
    {
     "cell_type": "code",
     "collapsed": false,
     "input": [
      "home_dir='/home/ubuntu/UCSD_BigData'\n",
      "sys.path.append(home_dir+'/utils')\n",
      "\n",
      "# Importing some functions necessary for MRjobs\n",
      "from find_waiting_flow import *\n",
      "from AWS_keypair_management import *\n",
      "\n",
      "cur_dir  = home_dir+'/notebooks/weather_project' #working directory"
     ],
     "language": "python",
     "metadata": {},
     "outputs": [],
     "prompt_number": 5
    },
    {
     "cell_type": "code",
     "collapsed": false,
     "input": [
      "#Loading required credentials and creating Config file for mrjob\n",
      "\n",
      "Creds= pickle.load(open('/home/ubuntu/Vault/Creds.pkl','rb'))\n",
      "pair=Creds['mrjob']\n",
      "key_id=pair['key_id']\n",
      "secret_key=pair['secret_key']\n",
      "ID=pair['ID']\n",
      "\n",
      "%cd $home_dir/utils/\n",
      "!python Make.mrjob.conf.py  #If EC2_VAULT is not defined, default location - '/home/ubuntu/Vault'\n",
      "%cd $home_dir/notebooks/weather_project"
     ],
     "language": "python",
     "metadata": {},
     "outputs": [
      {
       "output_type": "stream",
       "stream": "stdout",
       "text": [
        "/home/ubuntu/UCSD_BigData/utils\n",
        "Created the configuration file: /home/ubuntu/.mrjob.conf\r\n"
       ]
      },
      {
       "output_type": "stream",
       "stream": "stdout",
       "text": [
        "/home/ubuntu/UCSD_BigData/notebooks/weather_project\n"
       ]
      }
     ],
     "prompt_number": 6
    },
    {
     "cell_type": "code",
     "collapsed": false,
     "input": [
      "%%writefile collect_GSODStats.py\n",
      "#!/usr/bin/python\n",
      "\"\"\"\n",
      "collect the statistics for each station.\n",
      "\"\"\"\n",
      "import re,pickle,base64,zlib\n",
      "import numpy as np\n",
      "from sys import stderr\n",
      "import sys\n",
      "\n",
      "sys.path.append('/usr/lib/python2.6/dist-packages') # a hack because anaconda made mrjob unreachable\n",
      "from mrjob.job import MRJob\n",
      "from mrjob.protocol import *\n",
      "\n",
      "import traceback\n",
      "from functools import wraps\n",
      "from sys import stderr\n",
      "import datetime\n",
      "def loads(eVal):\n",
      "    \"\"\" Decode a string into a value \"\"\"\n",
      "    return pickle.loads(zlib.decompress(base64.b64decode(eVal)))\n",
      "\n",
      "def dumps(Value):\n",
      "    \"\"\" Encode a value as a string \"\"\"\n",
      "    return base64.b64encode(zlib.compress(pickle.dumps(Value),9))\n",
      "\n",
      "non_decimal = re.compile(r'[^\\d.]+')\n",
      "meas_choosen = ['TEMP','TMAX', 'TMIN', 'PRCP', 'SNDP']\n",
      "missing_flag = ['9999.9','9999.9','9999.9','99.99','999.9'] #missing flags used corresponding to above readings\n",
      "\n",
      "class Collect_GSODStats(MRJob):\n",
      "\n",
      "    def only_mapper(self, _, line):\n",
      "        elements=line.split(',')\n",
      "        yr, mnth, day = int(elements[2][:4]), int(elements[2][-4:-2]), int(elements[2][-2:])\n",
      "        if not (mnth ==2 and day == 29): #ignore Feb. 29 data from leap years\n",
      "            DayOfYear = datetime.date(2014, mnth, day).strftime(\"%j\") #choosing an arbitrary non-leap year\n",
      "            yield((elements[0], yr),[int(DayOfYear), [elements[3]]+ elements[-5:-1]])\n",
      "           \n",
      "          \n",
      "    def first_reducer(self, (stn,yr), vectors):\n",
      "        D = np.zeros((len(meas_choosen), 365) ,dtype = int)\n",
      "        for (day, meas) in vectors:\n",
      "            for (i, val) in enumerate(meas):\n",
      "                if not (non_decimal.sub('', val) == missing_flag[i]): #if data is not missing\n",
      "                    D[i,day-1] = 1 \n",
      "                    \n",
      "        counts = np.sum(D, axis = 1)\n",
      "        yield(stn, [yr, counts.tolist()])\n",
      "  \n",
      "    def second_reducer(self, stn, vectors):\n",
      "        D = {}\n",
      "        for (yr, counts) in vectors:\n",
      "            for i in range(len(meas_choosen)):\n",
      "                D[(yr, meas_choosen[i])] = counts[i]\n",
      "        yield(stn, dumps(D))\n",
      "  \n",
      "    def steps(self):\n",
      "        return [\n",
      "            self.mr(mapper=self.only_mapper,\n",
      "                    reducer=self.first_reducer),\n",
      "            self.mr(reducer=self.second_reducer)\n",
      "        ]     \n",
      "if __name__ == '__main__':\n",
      "    Collect_GSODStats.run()"
     ],
     "language": "python",
     "metadata": {},
     "outputs": []
    },
    {
     "cell_type": "code",
     "collapsed": false,
     "input": [
      "!python collect_GSODStats.py gsod.all.tsv_1024 > gsod_counts_local"
     ],
     "language": "python",
     "metadata": {},
     "outputs": [
      {
       "output_type": "stream",
       "stream": "stdout",
       "text": [
        "using configs in /home/ubuntu/.mrjob.conf\r\n",
        "creating tmp directory /tmp/collect_GSODStats.ubuntu.20140613.023115.073846\r\n"
       ]
      },
      {
       "output_type": "stream",
       "stream": "stdout",
       "text": [
        "writing to /tmp/collect_GSODStats.ubuntu.20140613.023115.073846/step-0-mapper_part-00000\r\n"
       ]
      },
      {
       "output_type": "stream",
       "stream": "stdout",
       "text": [
        "Counters from step 1:\r\n",
        "  (no counters found)\r\n",
        "writing to /tmp/collect_GSODStats.ubuntu.20140613.023115.073846/step-0-mapper-sorted\r\n",
        "> sort /tmp/collect_GSODStats.ubuntu.20140613.023115.073846/step-0-mapper_part-00000\r\n"
       ]
      },
      {
       "output_type": "stream",
       "stream": "stdout",
       "text": [
        "writing to /tmp/collect_GSODStats.ubuntu.20140613.023115.073846/step-0-reducer_part-00000\r\n"
       ]
      },
      {
       "output_type": "stream",
       "stream": "stdout",
       "text": [
        "Counters from step 1:\r\n",
        "  (no counters found)\r\n"
       ]
      },
      {
       "output_type": "stream",
       "stream": "stdout",
       "text": [
        "writing to /tmp/collect_GSODStats.ubuntu.20140613.023115.073846/step-1-mapper_part-00000\r\n",
        "Counters from step 2:\r\n",
        "  (no counters found)\r\n",
        "writing to /tmp/collect_GSODStats.ubuntu.20140613.023115.073846/step-1-mapper-sorted\r\n",
        "> sort /tmp/collect_GSODStats.ubuntu.20140613.023115.073846/step-1-mapper_part-00000\r\n",
        "writing to /tmp/collect_GSODStats.ubuntu.20140613.023115.073846/step-1-reducer_part-00000\r\n"
       ]
      },
      {
       "output_type": "stream",
       "stream": "stdout",
       "text": [
        "Counters from step 2:\r\n",
        "  (no counters found)\r\n",
        "Moving /tmp/collect_GSODStats.ubuntu.20140613.023115.073846/step-1-reducer_part-00000 -> /tmp/collect_GSODStats.ubuntu.20140613.023115.073846/output/part-00000\r\n",
        "Streaming final output from /tmp/collect_GSODStats.ubuntu.20140613.023115.073846/output\r\n",
        "removing tmp directory /tmp/collect_GSODStats.ubuntu.20140613.023115.073846\r\n"
       ]
      }
     ],
     "prompt_number": 88
    },
    {
     "cell_type": "code",
     "collapsed": false,
     "input": [
      "job_flow_id=find_waiting_flow(key_id,secret_key)\n",
      "!python collect_GSODStats.py -r emr --emr-job-flow-id $job_flow_id s3://vineel-bucket/gsod.all.tsv > gsod_counts"
     ],
     "language": "python",
     "metadata": {},
     "outputs": [
      {
       "output_type": "stream",
       "stream": "stdout",
       "text": [
        "<boto.emr.emrobject.JobFlow object at 0x6c30dd0> no_script.yoavfreund.20140610.012507.678804 j-NIGXU2E6YEU3 WAITING\n",
        "<boto.emr.emrobject.JobFlow object at 0x6d1c690> no_script.yoavfreund.20140610.012515.693483 j-3SOQM885E1GLH WAITING\n",
        "<boto.emr.emrobject.JobFlow object at 0x6d37790> no_script.yoavfreund.20140610.012523.713192 j-34Q4HR41T9BWU WAITING\n",
        "<boto.emr.emrobject.JobFlow object at 0x6d513d0> no_script.yoavfreund.20140611.181703.600873 j-2N4U1USC54EM6 WAITING\n",
        "<boto.emr.emrobject.JobFlow object at 0x6f2db50> no_script.yoavfreund.20140611.181713.270989 j-3QZOHADZF9KY1 WAITING\n",
        "<boto.emr.emrobject.JobFlow object at 0x6fde350> no_script.yoavfreund.20140611.181730.511103 j-2S5LTMBIWD2WB WAITING\n",
        "<boto.emr.emrobject.JobFlow object at 0x70e3690> no_script.yoavfreund.20140611.181738.864430 j-3TFYHEIHI9VOY WAITING\n"
       ]
      },
      {
       "output_type": "stream",
       "stream": "stdout",
       "text": [
        "using configs in /home/ubuntu/.mrjob.conf\r\n"
       ]
      },
      {
       "output_type": "stream",
       "stream": "stdout",
       "text": [
        "creating new scratch bucket mrjob-98ff9d6c1f9a4098\r\n",
        "using s3://mrjob-98ff9d6c1f9a4098/tmp/ as our scratch dir on S3\r\n"
       ]
      },
      {
       "output_type": "stream",
       "stream": "stdout",
       "text": [
        "creating tmp directory /tmp/collect_GSODStats.ubuntu.20140613.023402.879908\r\n"
       ]
      },
      {
       "output_type": "stream",
       "stream": "stdout",
       "text": [
        "creating S3 bucket 'mrjob-98ff9d6c1f9a4098' to use as scratch space\r\n"
       ]
      },
      {
       "output_type": "stream",
       "stream": "stdout",
       "text": [
        "Copying non-input files into s3://mrjob-98ff9d6c1f9a4098/tmp/collect_GSODStats.ubuntu.20140613.023402.879908/files/\r\n"
       ]
      },
      {
       "output_type": "stream",
       "stream": "stdout",
       "text": [
        "Adding our job to existing job flow j-3TFYHEIHI9VOY\r\n"
       ]
      },
      {
       "output_type": "stream",
       "stream": "stdout",
       "text": [
        "Job launched 30.9s ago, status RUNNING: Running step (collect_GSODStats.ubuntu.20140613.023402.879908: Step 1 of 2)\r\n"
       ]
      },
      {
       "output_type": "stream",
       "stream": "stdout",
       "text": [
        "Job launched 61.8s ago, status RUNNING: Running step (collect_GSODStats.ubuntu.20140613.023402.879908: Step 1 of 2)\r\n"
       ]
      },
      {
       "output_type": "stream",
       "stream": "stdout",
       "text": [
        "Job launched 92.6s ago, status RUNNING: Running step (collect_GSODStats.ubuntu.20140613.023402.879908: Step 1 of 2)\r\n"
       ]
      },
      {
       "output_type": "stream",
       "stream": "stdout",
       "text": [
        "Job launched 123.4s ago, status RUNNING: Running step (collect_GSODStats.ubuntu.20140613.023402.879908: Step 1 of 2)\r\n"
       ]
      },
      {
       "output_type": "stream",
       "stream": "stdout",
       "text": [
        "Job launched 154.2s ago, status RUNNING: Running step (collect_GSODStats.ubuntu.20140613.023402.879908: Step 1 of 2)\r\n"
       ]
      },
      {
       "output_type": "stream",
       "stream": "stdout",
       "text": [
        "Job launched 185.1s ago, status RUNNING: Running step (collect_GSODStats.ubuntu.20140613.023402.879908: Step 1 of 2)\r\n"
       ]
      },
      {
       "output_type": "stream",
       "stream": "stdout",
       "text": [
        "Job launched 216.0s ago, status RUNNING: Running step (collect_GSODStats.ubuntu.20140613.023402.879908: Step 1 of 2)\r\n"
       ]
      },
      {
       "output_type": "stream",
       "stream": "stdout",
       "text": [
        "Job launched 247.7s ago, status RUNNING: Running step (collect_GSODStats.ubuntu.20140613.023402.879908: Step 1 of 2)\r\n"
       ]
      },
      {
       "output_type": "stream",
       "stream": "stdout",
       "text": [
        "Job launched 278.6s ago, status RUNNING: Running step (collect_GSODStats.ubuntu.20140613.023402.879908: Step 1 of 2)\r\n"
       ]
      },
      {
       "output_type": "stream",
       "stream": "stdout",
       "text": [
        "Job launched 309.5s ago, status RUNNING: Running step (collect_GSODStats.ubuntu.20140613.023402.879908: Step 1 of 2)\r\n"
       ]
      },
      {
       "output_type": "stream",
       "stream": "stdout",
       "text": [
        "Job launched 340.5s ago, status RUNNING: Running step (collect_GSODStats.ubuntu.20140613.023402.879908: Step 1 of 2)\r\n"
       ]
      },
      {
       "output_type": "stream",
       "stream": "stdout",
       "text": [
        "Job launched 371.3s ago, status RUNNING: Running step (collect_GSODStats.ubuntu.20140613.023402.879908: Step 1 of 2)\r\n"
       ]
      },
      {
       "output_type": "stream",
       "stream": "stdout",
       "text": [
        "Job launched 402.2s ago, status RUNNING: Running step (collect_GSODStats.ubuntu.20140613.023402.879908: Step 1 of 2)\r\n"
       ]
      },
      {
       "output_type": "stream",
       "stream": "stdout",
       "text": [
        "Job launched 433.1s ago, status RUNNING: Running step (collect_GSODStats.ubuntu.20140613.023402.879908: Step 1 of 2)\r\n"
       ]
      },
      {
       "output_type": "stream",
       "stream": "stdout",
       "text": [
        "Job launched 463.9s ago, status RUNNING: Running step (collect_GSODStats.ubuntu.20140613.023402.879908: Step 1 of 2)\r\n"
       ]
      },
      {
       "output_type": "stream",
       "stream": "stdout",
       "text": [
        "Job launched 494.9s ago, status RUNNING: Running step (collect_GSODStats.ubuntu.20140613.023402.879908: Step 1 of 2)\r\n"
       ]
      },
      {
       "output_type": "stream",
       "stream": "stdout",
       "text": [
        "Job launched 525.8s ago, status RUNNING: Running step (collect_GSODStats.ubuntu.20140613.023402.879908: Step 1 of 2)\r\n"
       ]
      },
      {
       "output_type": "stream",
       "stream": "stdout",
       "text": [
        "Job launched 556.7s ago, status RUNNING: Running step (collect_GSODStats.ubuntu.20140613.023402.879908: Step 1 of 2)\r\n"
       ]
      },
      {
       "output_type": "stream",
       "stream": "stdout",
       "text": [
        "Job launched 587.7s ago, status RUNNING: Running step (collect_GSODStats.ubuntu.20140613.023402.879908: Step 1 of 2)\r\n"
       ]
      },
      {
       "output_type": "stream",
       "stream": "stdout",
       "text": [
        "Job launched 618.5s ago, status RUNNING: Running step (collect_GSODStats.ubuntu.20140613.023402.879908: Step 1 of 2)\r\n"
       ]
      }
     ]
    },
    {
     "cell_type": "code",
     "collapsed": false,
     "input": [
      "job_flow_id=find_waiting_flow(key_id,secret_key)\n",
      "!python Get_GSOD_Data.py -r emr --emr-job-flow-id $job_flow_id  --group_data gsod_station_groups.pkl \\\n",
      "                                                                        s3://vineel-bucket/gsod.all.tsv > gsod_data_temp"
     ],
     "language": "python",
     "metadata": {},
     "outputs": [
      {
       "output_type": "stream",
       "stream": "stdout",
       "text": [
        "<boto.emr.emrobject.JobFlow object at 0x6c30c10> no_script.yoavfreund.20140610.012515.693483 j-3SOQM885E1GLH WAITING\n",
        "<boto.emr.emrobject.JobFlow object at 0x7c0aa90> no_script.yoavfreund.20140611.181703.600873 j-2N4U1USC54EM6 WAITING\n",
        "<boto.emr.emrobject.JobFlow object at 0x7c12190> no_script.yoavfreund.20140611.181713.270989 j-3QZOHADZF9KY1 WAITING\n",
        "<boto.emr.emrobject.JobFlow object at 0x7a326d0> no_script.yoavfreund.20140611.181730.511103 j-2S5LTMBIWD2WB WAITING\n",
        "<boto.emr.emrobject.JobFlow object at 0x7804290> no_script.yoavfreund.20140613.042333.580519 j-27Y940LIXXNSZ WAITING\n"
       ]
      },
      {
       "output_type": "stream",
       "stream": "stdout",
       "text": [
        "using configs in /home/ubuntu/.mrjob.conf\r\n"
       ]
      },
      {
       "output_type": "stream",
       "stream": "stdout",
       "text": [
        "creating new scratch bucket mrjob-66820462149348d2\r\n",
        "using s3://mrjob-66820462149348d2/tmp/ as our scratch dir on S3\r\n"
       ]
      },
      {
       "output_type": "stream",
       "stream": "stdout",
       "text": [
        "creating tmp directory /tmp/Get_GSOD_Data.ubuntu.20140613.090354.005306\r\n"
       ]
      },
      {
       "output_type": "stream",
       "stream": "stdout",
       "text": [
        "creating S3 bucket 'mrjob-66820462149348d2' to use as scratch space\r\n"
       ]
      },
      {
       "output_type": "stream",
       "stream": "stdout",
       "text": [
        "Copying non-input files into s3://mrjob-66820462149348d2/tmp/Get_GSOD_Data.ubuntu.20140613.090354.005306/files/\r\n"
       ]
      },
      {
       "output_type": "stream",
       "stream": "stdout",
       "text": [
        "Adding our job to existing job flow j-27Y940LIXXNSZ\r\n"
       ]
      },
      {
       "output_type": "stream",
       "stream": "stdout",
       "text": [
        "Job launched 30.2s ago, status RUNNING: Running step (Get_GSOD_Data.ubuntu.20140613.090354.005306: Step 1 of 2)\r\n"
       ]
      }
     ]
    },
    {
     "cell_type": "code",
     "collapsed": false,
     "input": [
      "%%writefile Get_GSOD_Data.py\n",
      "\n",
      "#!/usr/bin/python\n",
      "\"\"\"\n",
      "collect the statistics for each station.\n",
      "\"\"\"\n",
      "import re,pickle,base64,zlib\n",
      "import cPickle as cpkl\n",
      "import numpy as np\n",
      "from sys import stderr\n",
      "import sys\n",
      "\n",
      "sys.path.append('/usr/lib/python2.6/dist-packages') # a hack because anaconda made mrjob unreachable\n",
      "from mrjob.job import MRJob\n",
      "from mrjob.protocol import *\n",
      "\n",
      "import traceback\n",
      "from functools import wraps\n",
      "from sys import stderr\n",
      "import datetime\n",
      "\n",
      "def dumps(Value):\n",
      "    \"\"\" Encode a value as a string \"\"\"\n",
      "    return base64.b64encode(zlib.compress(cpkl.dumps(Value),9))\n",
      "\n",
      "non_decimal = re.compile(r'[^\\d.]+')\n",
      "meas_choosen = 'TEMP'\n",
      "missing_flag = ['9999.9','9999.9','9999.9','99.99','999.9'] #missing flags used corresponding to above readings \n",
      "                 #['TEMP','TMAX', 'TMIN', 'PRCP', 'SNDP']\n",
      "threshold = 180\n",
      "class Get_GSOD_Data(MRJob):\n",
      "    \n",
      "    #This adds options --stations for the location of where to get the lookup file\n",
      "    def configure_options(self):\n",
      "        super(Get_GSOD_Data,self).configure_options()\n",
      "        self.add_file_option('--group_data')\n",
      "        \n",
      "    #This loads the lookup file into a field on the object\n",
      "    def reducer_init(self):\n",
      "        f = open(self.options.group_data, \"rb\" )\n",
      "        (self.Data_Stations) = pickle.load(f) \n",
      "        f.close()\n",
      " \n",
      "    def mapper(self, _, line):\n",
      "        elements=line.split(',')\n",
      "        #stderr.write(elements[2])\n",
      "        yr, mnth, day = int(elements[2][:4]), int(elements[2][-4:-2]), int(elements[2][-2:])\n",
      "        if not (mnth ==2 and day == 29): #ignore Feb. 29 data from leap years\n",
      "            DayOfYear = datetime.date(2014, mnth, day).strftime(\"%j\") #choosing an arbitrary non-leap year\n",
      "            #stderr.write(elements[-2])\n",
      "            yield((elements[0], yr),[int(DayOfYear), elements[3]])\n",
      "           \n",
      "          \n",
      "    def reducer(self, (stn,yr), vectors):\n",
      "        D = np.zeros(365)\n",
      "        D[:] = np.nan\n",
      "        for (day, val) in vectors:\n",
      "            var_numeric = non_decimal.sub('', val)\n",
      "            if not (var_numeric == missing_flag[0]): #if data is not missing\n",
      "                D[day-1] =  float(var_numeric)\n",
      "            else:\n",
      "                #stderr.write('here')\n",
      "                D[day-1] =  np.nan\n",
      "                \n",
      "        if ((~np.isnan(D)).sum() > threshold):\n",
      "            if(stn in self.Data_Stations.index):\n",
      "                grp_id = self.Data_Stations['TEMP_GRP'][stn]\n",
      "                yield(grp_id, dumps(D))\n",
      "             \n",
      "if __name__ == '__main__':\n",
      "    Get_GSOD_Data.run()"
     ],
     "language": "python",
     "metadata": {},
     "outputs": [
      {
       "output_type": "stream",
       "stream": "stdout",
       "text": [
        "Overwriting Get_GSOD_Data.py\n"
       ]
      }
     ],
     "prompt_number": 33
    },
    {
     "cell_type": "code",
     "collapsed": false,
     "input": [
      "!python Get_GSOD_Data.py  --group_data gsod_station_groups.pkl gsod.all.tsv_1024 > gsod_data_temp_local"
     ],
     "language": "python",
     "metadata": {},
     "outputs": [
      {
       "output_type": "stream",
       "stream": "stdout",
       "text": [
        "using configs in /home/ubuntu/.mrjob.conf\r\n",
        "creating tmp directory /tmp/Get_GSOD_Data.ubuntu.20140614.045043.797231\r\n"
       ]
      },
      {
       "output_type": "stream",
       "stream": "stdout",
       "text": [
        "writing to /tmp/Get_GSOD_Data.ubuntu.20140614.045043.797231/step-0-mapper_part-00000\r\n"
       ]
      },
      {
       "output_type": "stream",
       "stream": "stdout",
       "text": [
        "Counters from step 1:\r\n",
        "  (no counters found)\r\n",
        "writing to /tmp/Get_GSOD_Data.ubuntu.20140614.045043.797231/step-0-mapper-sorted\r\n",
        "> sort /tmp/Get_GSOD_Data.ubuntu.20140614.045043.797231/step-0-mapper_part-00000\r\n"
       ]
      },
      {
       "output_type": "stream",
       "stream": "stdout",
       "text": [
        "writing to /tmp/Get_GSOD_Data.ubuntu.20140614.045043.797231/step-0-reducer_part-00000\r\n"
       ]
      },
      {
       "output_type": "stream",
       "stream": "stdout",
       "text": [
        "Counters from step 1:\r\n",
        "  (no counters found)\r\n",
        "Moving /tmp/Get_GSOD_Data.ubuntu.20140614.045043.797231/step-0-reducer_part-00000 -> /tmp/Get_GSOD_Data.ubuntu.20140614.045043.797231/output/part-00000\r\n"
       ]
      },
      {
       "output_type": "stream",
       "stream": "stdout",
       "text": [
        "Streaming final output from /tmp/Get_GSOD_Data.ubuntu.20140614.045043.797231/output\r\n",
        "removing tmp directory /tmp/Get_GSOD_Data.ubuntu.20140614.045043.797231\r\n"
       ]
      }
     ],
     "prompt_number": 26
    },
    {
     "cell_type": "code",
     "collapsed": false,
     "input": [
      "job_flow_id=find_waiting_flow(key_id,secret_key)\n",
      "!python Get_GSOD_Data.py -r emr --emr-job-flow-id $job_flow_id --group_data gsod_station_groups.pkl  \\\n",
      "                                                                s3://vineel-bucket/gsod.all.tsv > gsod_data_temp"
     ],
     "language": "python",
     "metadata": {},
     "outputs": [
      {
       "output_type": "stream",
       "stream": "stdout",
       "text": [
        "<boto.emr.emrobject.JobFlow object at 0x489f190> no_script.yoavfreund.20140611.181713.270989 j-3QZOHADZF9KY1 WAITING\n",
        "<boto.emr.emrobject.JobFlow object at 0x48aee90> no_script.yoavfreund.20140611.181722.314318 j-3MR2RR5OEXRQ7 WAITING\n",
        "<boto.emr.emrobject.JobFlow object at 0x5bbd9d0> no_script.yoavfreund.20140611.181730.511103 j-2S5LTMBIWD2WB WAITING\n",
        "<boto.emr.emrobject.JobFlow object at 0x4d4a350> no_script.yoavfreund.20140611.181738.864430 j-3TFYHEIHI9VOY WAITING\n",
        "<boto.emr.emrobject.JobFlow object at 0x55d8450> no_script.yoavfreund.20140613.042333.580519 j-27Y940LIXXNSZ WAITING\n",
        "<boto.emr.emrobject.JobFlow object at 0x55e8e50> no_script.yoavfreund.20140613.042344.097071 j-3LP88IFUHBOHO WAITING\n",
        "<boto.emr.emrobject.JobFlow object at 0x551c510> no_script.yoavfreund.20140613.042353.469396 j-2YMCM4F2XO00B WAITING\n",
        "<boto.emr.emrobject.JobFlow object at 0x55216d0> no_script.yoavfreund.20140613.042403.179810 j-2DMPRXAW49U58 WAITING\n",
        "<boto.emr.emrobject.JobFlow object at 0x58ccad0> no_script.yoavfreund.20140613.154912.285351 j-1CV4WDLQKK3B6 WAITING\n",
        "<boto.emr.emrobject.JobFlow object at 0x58d7e10> no_script.yoavfreund.20140613.154922.328252 j-1XMJYZ35TFPY8 WAITING\n"
       ]
      },
      {
       "output_type": "stream",
       "stream": "stdout",
       "text": [
        "using configs in /home/ubuntu/.mrjob.conf\r\n"
       ]
      },
      {
       "output_type": "stream",
       "stream": "stdout",
       "text": [
        "creating new scratch bucket mrjob-ac8c1cc6f74f2c1b\r\n",
        "using s3://mrjob-ac8c1cc6f74f2c1b/tmp/ as our scratch dir on S3\r\n"
       ]
      },
      {
       "output_type": "stream",
       "stream": "stdout",
       "text": [
        "creating tmp directory /tmp/Get_GSOD_Data.ubuntu.20140614.052527.004671\r\n"
       ]
      },
      {
       "output_type": "stream",
       "stream": "stdout",
       "text": [
        "creating S3 bucket 'mrjob-ac8c1cc6f74f2c1b' to use as scratch space\r\n"
       ]
      },
      {
       "output_type": "stream",
       "stream": "stdout",
       "text": [
        "Copying non-input files into s3://mrjob-ac8c1cc6f74f2c1b/tmp/Get_GSOD_Data.ubuntu.20140614.052527.004671/files/\r\n"
       ]
      },
      {
       "output_type": "stream",
       "stream": "stdout",
       "text": [
        "Adding our job to existing job flow j-1XMJYZ35TFPY8\r\n"
       ]
      },
      {
       "output_type": "stream",
       "stream": "stdout",
       "text": [
        "Job launched 30.4s ago, status RUNNING: Running step (Get_GSOD_Data.ubuntu.20140614.052527.004671: Step 1 of 1)\r\n"
       ]
      },
      {
       "output_type": "stream",
       "stream": "stdout",
       "text": [
        "Job launched 60.8s ago, status RUNNING: Running step (Get_GSOD_Data.ubuntu.20140614.052527.004671: Step 1 of 1)\r\n"
       ]
      },
      {
       "output_type": "stream",
       "stream": "stdout",
       "text": [
        "Job launched 91.3s ago, status RUNNING: Running step (Get_GSOD_Data.ubuntu.20140614.052527.004671: Step 1 of 1)\r\n"
       ]
      },
      {
       "output_type": "stream",
       "stream": "stdout",
       "text": [
        "Job launched 121.8s ago, status RUNNING: Running step (Get_GSOD_Data.ubuntu.20140614.052527.004671: Step 1 of 1)\r\n"
       ]
      },
      {
       "output_type": "stream",
       "stream": "stdout",
       "text": [
        "Job launched 152.3s ago, status RUNNING: Running step (Get_GSOD_Data.ubuntu.20140614.052527.004671: Step 1 of 1)\r\n"
       ]
      },
      {
       "output_type": "stream",
       "stream": "stdout",
       "text": [
        "Job launched 182.8s ago, status RUNNING: Running step (Get_GSOD_Data.ubuntu.20140614.052527.004671: Step 1 of 1)\r\n"
       ]
      },
      {
       "output_type": "stream",
       "stream": "stdout",
       "text": [
        "Job launched 213.4s ago, status RUNNING: Running step (Get_GSOD_Data.ubuntu.20140614.052527.004671: Step 1 of 1)\r\n"
       ]
      },
      {
       "output_type": "stream",
       "stream": "stdout",
       "text": [
        "Job launched 243.8s ago, status RUNNING: Running step (Get_GSOD_Data.ubuntu.20140614.052527.004671: Step 1 of 1)\r\n"
       ]
      },
      {
       "output_type": "stream",
       "stream": "stdout",
       "text": [
        "Job launched 274.2s ago, status RUNNING: Running step (Get_GSOD_Data.ubuntu.20140614.052527.004671: Step 1 of 1)\r\n"
       ]
      },
      {
       "output_type": "stream",
       "stream": "stdout",
       "text": [
        "Job launched 304.8s ago, status RUNNING: Running step (Get_GSOD_Data.ubuntu.20140614.052527.004671: Step 1 of 1)\r\n"
       ]
      },
      {
       "output_type": "stream",
       "stream": "stdout",
       "text": [
        "Job launched 335.3s ago, status RUNNING: Running step (Get_GSOD_Data.ubuntu.20140614.052527.004671: Step 1 of 1)\r\n"
       ]
      },
      {
       "output_type": "stream",
       "stream": "stdout",
       "text": [
        "Job launched 365.8s ago, status RUNNING: Running step (Get_GSOD_Data.ubuntu.20140614.052527.004671: Step 1 of 1)\r\n"
       ]
      },
      {
       "output_type": "stream",
       "stream": "stdout",
       "text": [
        "Job launched 396.2s ago, status RUNNING: Running step (Get_GSOD_Data.ubuntu.20140614.052527.004671: Step 1 of 1)\r\n"
       ]
      },
      {
       "output_type": "stream",
       "stream": "stdout",
       "text": [
        "Job launched 426.7s ago, status RUNNING: Running step (Get_GSOD_Data.ubuntu.20140614.052527.004671: Step 1 of 1)\r\n"
       ]
      },
      {
       "output_type": "stream",
       "stream": "stdout",
       "text": [
        "Job launched 457.1s ago, status RUNNING: Running step (Get_GSOD_Data.ubuntu.20140614.052527.004671: Step 1 of 1)\r\n"
       ]
      },
      {
       "output_type": "stream",
       "stream": "stdout",
       "text": [
        "Job launched 487.6s ago, status RUNNING: Running step (Get_GSOD_Data.ubuntu.20140614.052527.004671: Step 1 of 1)\r\n"
       ]
      },
      {
       "output_type": "stream",
       "stream": "stdout",
       "text": [
        "Job launched 518.0s ago, status RUNNING: Running step (Get_GSOD_Data.ubuntu.20140614.052527.004671: Step 1 of 1)\r\n"
       ]
      },
      {
       "output_type": "stream",
       "stream": "stdout",
       "text": [
        "Job launched 548.4s ago, status RUNNING: Running step (Get_GSOD_Data.ubuntu.20140614.052527.004671: Step 1 of 1)\r\n"
       ]
      },
      {
       "output_type": "stream",
       "stream": "stdout",
       "text": [
        "Job launched 578.8s ago, status RUNNING: Running step (Get_GSOD_Data.ubuntu.20140614.052527.004671: Step 1 of 1)\r\n"
       ]
      },
      {
       "output_type": "stream",
       "stream": "stdout",
       "text": [
        "Job launched 609.3s ago, status RUNNING: Running step (Get_GSOD_Data.ubuntu.20140614.052527.004671: Step 1 of 1)\r\n"
       ]
      },
      {
       "output_type": "stream",
       "stream": "stdout",
       "text": [
        "Job launched 639.7s ago, status RUNNING: Running step (Get_GSOD_Data.ubuntu.20140614.052527.004671: Step 1 of 1)\r\n"
       ]
      },
      {
       "output_type": "stream",
       "stream": "stdout",
       "text": [
        "Job launched 670.2s ago, status RUNNING: Running step (Get_GSOD_Data.ubuntu.20140614.052527.004671: Step 1 of 1)\r\n"
       ]
      },
      {
       "output_type": "stream",
       "stream": "stdout",
       "text": [
        "Job launched 700.6s ago, status RUNNING: Running step (Get_GSOD_Data.ubuntu.20140614.052527.004671: Step 1 of 1)\r\n"
       ]
      },
      {
       "output_type": "stream",
       "stream": "stdout",
       "text": [
        "Job launched 731.1s ago, status RUNNING: Running step (Get_GSOD_Data.ubuntu.20140614.052527.004671: Step 1 of 1)\r\n"
       ]
      },
      {
       "output_type": "stream",
       "stream": "stdout",
       "text": [
        "Job launched 761.6s ago, status RUNNING: Running step (Get_GSOD_Data.ubuntu.20140614.052527.004671: Step 1 of 1)\r\n"
       ]
      },
      {
       "output_type": "stream",
       "stream": "stdout",
       "text": [
        "Job launched 792.0s ago, status RUNNING: Running step (Get_GSOD_Data.ubuntu.20140614.052527.004671: Step 1 of 1)\r\n"
       ]
      },
      {
       "output_type": "stream",
       "stream": "stdout",
       "text": [
        "Job launched 822.5s ago, status RUNNING: Running step (Get_GSOD_Data.ubuntu.20140614.052527.004671: Step 1 of 1)\r\n"
       ]
      },
      {
       "output_type": "stream",
       "stream": "stdout",
       "text": [
        "Job launched 852.9s ago, status RUNNING: Running step (Get_GSOD_Data.ubuntu.20140614.052527.004671: Step 1 of 1)\r\n"
       ]
      },
      {
       "output_type": "stream",
       "stream": "stdout",
       "text": [
        "Job launched 883.4s ago, status RUNNING: Running step (Get_GSOD_Data.ubuntu.20140614.052527.004671: Step 1 of 1)\r\n"
       ]
      },
      {
       "output_type": "stream",
       "stream": "stdout",
       "text": [
        "Job launched 913.9s ago, status RUNNING: Running step (Get_GSOD_Data.ubuntu.20140614.052527.004671: Step 1 of 1)\r\n"
       ]
      },
      {
       "output_type": "stream",
       "stream": "stdout",
       "text": [
        "Job launched 944.4s ago, status RUNNING: Running step (Get_GSOD_Data.ubuntu.20140614.052527.004671: Step 1 of 1)\r\n"
       ]
      },
      {
       "output_type": "stream",
       "stream": "stdout",
       "text": [
        "Job completed.\r\n",
        "Running time was 967.0s (not counting time spent waiting for the EC2 instances)\r\n",
        "ec2_key_pair_file not specified, going to S3\r\n",
        "Fetching counters from S3...\r\n",
        "Waiting 5.0s for S3 eventual consistency\r\n"
       ]
      },
      {
       "output_type": "stream",
       "stream": "stdout",
       "text": [
        "Counters may not have been uploaded to S3 yet. Try again in 5 minutes with: mrjob fetch-logs --counters j-1XMJYZ35TFPY8\r\n",
        "Counters from step 1:\r\n",
        "  (no counters found)\r\n",
        "Streaming final output from s3://mrjob-ac8c1cc6f74f2c1b/tmp/Get_GSOD_Data.ubuntu.20140614.052527.004671/output/\r\n"
       ]
      },
      {
       "output_type": "stream",
       "stream": "stdout",
       "text": [
        "removing tmp directory /tmp/Get_GSOD_Data.ubuntu.20140614.052527.004671\r\n"
       ]
      },
      {
       "output_type": "stream",
       "stream": "stdout",
       "text": [
        "Removing all files in s3://mrjob-ac8c1cc6f74f2c1b/tmp/Get_GSOD_Data.ubuntu.20140614.052527.004671/\r\n"
       ]
      }
     ],
     "prompt_number": 34
    },
    {
     "cell_type": "code",
     "collapsed": false,
     "input": [
      "def loads(eVal):\n",
      "    \"\"\" Decode a string into a value \"\"\"\n",
      "    return cpkl.loads(zlib.decompress(base64.b64decode(eVal)))\n",
      "\n",
      "f = open('gsod_data_temp')\n",
      "for line in f:\n",
      "    print loads(line.split()[1][1:-1])\n",
      "    break"
     ],
     "language": "python",
     "metadata": {},
     "outputs": [
      {
       "output_type": "stream",
       "stream": "stdout",
       "text": [
        "[ 10.6   6.3   4.1   5.7   9.5   6.8  17.6  26.6  24.1  16.2   7.1  13.3\n",
        "  21.2  26.4  31.2  24.6  22.1  20.5  24.8  22.5  17.1  23.2  21.2  15.8\n",
        "  19.   28.2  28.8  31.8  32.   32.5  31.8  30.   29.5  28.   21.7  34.2\n",
        "  32.9  32.5  32.7  31.5  26.2  22.5  20.5  29.8  28.6  25.2  19.6  23.7\n",
        "  21.6  25.9  32.6  33.8  32.7  33.4  31.5  29.3  24.6  16.   23.7  12.2\n",
        "  16.9  33.8  30.2  31.8  32.5  21.7  21.7  28.   32.9  33.4  33.8  33.\n",
        "  31.3  31.3  33.1  32.   32.2  32.7  33.6  35.4  34.2  34.   33.3  31.6\n",
        "  31.5  24.6  22.3  28.   23.5  18.9  18.   19.6  26.4  33.1  33.4  28.4\n",
        "  27.9  15.1  16.5  14.7  14.9  21.4  31.3  22.3  30.4  17.4  16.6  20.8\n",
        "  23.7  29.8  35.4  33.5  32.   21.4  21.9  22.3  25.9  24.4  20.3  23.4\n",
        "  21.6  19.7  16.   17.4  24.1  27.9  31.1  34.7  32.9  32.2  32.8  31.3\n",
        "  32.9  30.6  34.2  36.   37.   34.5  34.2  39.   39.   40.8  37.4  36.1\n",
        "  37.8  41.2  37.8  35.6  38.1  38.8  31.   32.   32.   34.2  30.5  30.9\n",
        "  33.3  34.9  38.8  39.2  40.8  40.6  40.1  39.7  39.2  38.3  38.5  39.2\n",
        "  37.6  39.2  36.6  36.4  36.3  39.7  41.5  40.3  39.2  37.6  38.6  38.5\n",
        "  39.7  41.5  39.9  39.7  39.2  39.9  40.8  43.2  41.9  39.7  39.   41.7\n",
        "  43.1  42.8  43.5  44.6  46.   44.2  43.2  44.6  42.6  41.5  41.2  39.4\n",
        "  41.9  39.4  43.7  40.8  36.3  36.5  38.5  36.   36.7  40.7  39.7  42.4\n",
        "  43.2  41.8  42.1  42.4  45.   45.5  42.8  43.9  41.9  43.7  39.2  39.2\n",
        "  41.5  41.2  41.9  41.9  43.   43.9  41.9  43.   42.6  44.2  39.9  41.5\n",
        "  39.   36.   35.1  36.9  38.5  34.   35.6  35.2  35.1  34.   33.5  35.6\n",
        "  34.9  33.4  34.5  33.4  38.1  36.3  37.6  40.1  40.3  40.8  40.1  41.5\n",
        "  41.   42.6  42.8  41.2  34.7  34.5  37.4  37.2  38.4  38.5  40.5  39.7\n",
        "  40.5  41.   41.2  42.3  42.8  40.5  40.3  39.   39.9  39.7  39.   39.2\n",
        "  39.   39.2  32.   27.9  32.7  36.   37.4  37.4  34.   36.7  37.4  37.4\n",
        "  37.2  32.2  37.7  38.3  36.9  36.5  34.7  36.3  37.6  33.3  25.   23.4\n",
        "  27.   24.6   9.5  14.3  25.9  38.2  37.8  30.9  26.8  28.2  36.5  26.8\n",
        "  15.6  15.4  15.4  15.3  28.6  30.6  18.3  16.1  28.2  35.9  32.9  28.8\n",
        "  32.9  29.5  22.1  22.5  23.7  30.2  36.3  34.7  31.5  34.9  33.8  34.2\n",
        "  32.9  35.1  35.2  34.   29.7  27.9  34.   28.4  18.5  21.6  24.8  24.8\n",
        "  14.   15.6   7.7   6.3   6.8]\n"
       ]
      }
     ],
     "prompt_number": 14
    },
    {
     "cell_type": "code",
     "collapsed": false,
     "input": [
      "!ls -lah"
     ],
     "language": "python",
     "metadata": {},
     "outputs": [
      {
       "output_type": "stream",
       "stream": "stdout",
       "text": [
        "total 3.7G\r\n",
        "drwxrwxr-x 5 ubuntu ubuntu 4.0K Jun 14 04:26 .\r\n",
        "drwxrwxr-x 9 ubuntu ubuntu 4.0K Jun  6 06:13 ..\r\n",
        "-rw-rw-r-- 1 ubuntu ubuntu 7.4M Jun  6 02:51 ALL.csv_1024\r\n",
        "-rw-rw-r-- 1 ubuntu ubuntu  48K Jun 14 01:52 anomalies\r\n",
        "-rw-rw-r-- 1 ubuntu ubuntu  41M Jun  7 01:00 Anomaly Detection.ipynb\r\n",
        "-rw-r--r-- 1 ubuntu ubuntu 648K Jun 14 02:05 Anomaly.ipynb\r\n",
        "drwxrwxr-x 2 ubuntu ubuntu 4.0K Jun  8 03:25 backup\r\n",
        "-rw-rw-r-- 1 ubuntu ubuntu 109K Jun 14 01:52 Bombay_IN012070800__TMIN_on_February_5th_2008.png\r\n",
        "-rw-rw-r-- 1 ubuntu ubuntu 1.5K Jun  7 09:49 collect_GHCNStats.py\r\n",
        "-rw-rw-r-- 1 ubuntu ubuntu 2.2K Jun 13 03:03 collect_GSODStats.py\r\n",
        "-rw-rw-r-- 1 ubuntu ubuntu 1.7K Jun 14 00:28 ComputeCovar.py\r\n",
        "-rw-rw-r-- 1 ubuntu ubuntu 338M Jun  7 10:49 counts.pkl\r\n",
        "-rw-rw-r-- 1 ubuntu ubuntu 8.6K Jun 14 04:38 functions_for_MDLClustering.py\r\n",
        "-rw-rw-r-- 1 ubuntu ubuntu 8.9K Jun 14 04:26 functions_for_MDLClustering.pyc\r\n",
        "-rw-rw-r-- 1 ubuntu ubuntu  219 Jun 13 21:53 functions_weather.py\r\n",
        "-rw-rw-r-- 1 ubuntu ubuntu  505 Jun 13 21:53 functions_weather.pyc\r\n",
        "-rw-rw-r-- 1 ubuntu ubuntu 2.4K Jun 14 05:06 Get_GSOD_Data.py\r\n",
        "-rw-rw-r-- 1 ubuntu ubuntu 108M Jun  7 09:58 ghcn_counts\r\n",
        "-rw-rw-r-- 1 ubuntu ubuntu 108K Jun  7 09:42 ghcn_counts_local\r\n",
        "-rw-rw-r-- 1 ubuntu ubuntu 313K Jun  8 12:50 GHCN-Daily-Dataset-Analysis.ipynb\r\n",
        "-rw-rw-r-- 1 ubuntu ubuntu    0 Jun 13 20:20 ghcn_data_prcp_local\r\n",
        "-rw-rw-rw- 1 ubuntu ubuntu  12M Jun  6 06:21 gsod.all.tsv_1024\r\n",
        "-rw-rw-r-- 1 ubuntu ubuntu  17M Jun 13 03:03 gsod_counts\r\n",
        "-rw-rw-r-- 1 ubuntu ubuntu  54K Jun 13 02:31 gsod_counts_local\r\n",
        "-rw-rw-r-- 1 ubuntu ubuntu 358M Jun 14 05:13 gsod_covar\r\n",
        "-rw-rw-r-- 1 ubuntu ubuntu    0 Jun 14 00:29 gsod_covar_temp\r\n",
        "-rw-rw-r-- 1 ubuntu ubuntu 752K Jun 13 08:36 gsod_data_local\r\n",
        "-rw-rw-r-- 1 ubuntu ubuntu    0 Jun 14 04:51 gsod_data_prcp\r\n",
        "-rw-rw-r-- 1 ubuntu ubuntu 450K Jun 13 22:02 gsod_data_prcp_local\r\n",
        "-rw-rw-r-- 1 ubuntu ubuntu 427M Jun 13 22:27 gsod_data_temp\r\n",
        "-rw-rw-r-- 1 ubuntu ubuntu 733K Jun 14 04:50 gsod_data_temp_local\r\n",
        "-rw-rw-r-- 1 ubuntu ubuntu 4.9M Jun 13 08:24 gsod_station_groups\r\n",
        "-rw-rw-r-- 1 ubuntu ubuntu 4.9M Jun 13 09:07 gsod_station_groups_backup.pkl\r\n",
        "-rw-rw-r-- 1 ubuntu ubuntu 6.3M Jun 13 22:06 gsod_station_groups.pkl\r\n",
        "-rw-rw-r-- 1 ubuntu ubuntu 760K Jun  7 08:32 gsod_stations\r\n",
        "-rw-rw-r-- 1 ubuntu ubuntu 4.9M Jun 13 21:59 gsod_stations_cleaned\r\n",
        "-rw-rw-r-- 1 ubuntu ubuntu 634K Jun  7 08:36 gsod_stations_cleaned2.csv\r\n",
        "-rw-rw-r-- 1 ubuntu ubuntu 2.3M Jun  7 07:34 gsod_stations_cleaned.csv\r\n",
        "drwxrwxr-x 2 ubuntu ubuntu 4.0K Jun 14 04:24 images\r\n",
        "-rw-rw-r-- 1 ubuntu ubuntu 2.7K Jun 12 08:21 indian_states.txt\r\n",
        "-rw-rw-r-- 1 ubuntu ubuntu 5.0M Jun  8 00:44 India_Readings\r\n",
        "-rw-rw-r-- 1 ubuntu ubuntu 2.3M Jun  8 03:30 ish-history.csv\r\n",
        "-rw-rw-r-- 1 ubuntu ubuntu 401K Jun 13 07:08 Jaisalmer(IN019140400) TMAX on July 8th 2009\r\n",
        "-rw-rw-r-- 1 ubuntu ubuntu 120K Jun 13 08:40 Lucknow_IN023351400__TMIN_on_December_30th_2012.png\r\n",
        "-rw-rw-r-- 1 ubuntu ubuntu  65K Jun 14 05:13 Map Reduce Jobs.ipynb\r\n",
        "-rw-rw-r-- 1 ubuntu ubuntu 192K Jun 13 02:49 MDL Clustering.ipynb\r\n",
        "-rw-rw-r-- 1 ubuntu ubuntu  953 Jun  5 23:26 Mean.py\r\n",
        "-rw-rw-r-- 1 ubuntu ubuntu  953 Jun  5 23:23 Mean_Readings.py\r\n",
        "-rw-rw-r-- 1 ubuntu ubuntu 1.6K Jun  7 20:34 MeanReadings.py\r\n",
        "-rw-rw-r-- 1 ubuntu ubuntu 465K Jun 14 05:22 Modelling-with-MDL-based-Clustering.ipynb\r\n",
        "-rw-rw-r-- 1 ubuntu ubuntu 161K Jun 13 05:50 myplot.pickle\r\n",
        "-rw-rw-r-- 1 ubuntu ubuntu  14K Jun  6 08:29 nb for downloading from s3.ipynb\r\n",
        "-rw-rw-r-- 1 ubuntu ubuntu  49K Jun 13 21:59 NCDC-Weather-Datasets-Analysis-Copy0.ipynb\r\n",
        "-rw-rw-r-- 1 ubuntu ubuntu 298K Jun 13 23:21 NCDC-Weather-Datasets-Analysis.ipynb\r\n",
        "-rw-rw-r-- 1 ubuntu ubuntu 744K May  4  2011 nsd_bbsss.txt\r\n",
        "-rw-rw-r-- 1 ubuntu ubuntu 511K May  4  2011 nsd_cccc.txt\r\n",
        "-rw-rw-r-- 1 ubuntu ubuntu 1.4M Jun  6 01:05 out_kritika\r\n",
        "-rw-rw-r-- 1 ubuntu ubuntu 2.0M Jun  7 04:21 out_kritika3\r\n",
        "-rw-rw-r-- 1 ubuntu ubuntu 1.4M Jun  6 03:41 out_temp\r\n",
        "-rw-rw-r-- 1 ubuntu ubuntu    0 Jun 12 08:03 states\r\n",
        "-rw-rw-r-- 1 ubuntu ubuntu 1.6G Jun  7 20:49 station_mean_and_var\r\n",
        "-rw-rw-r-- 1 ubuntu ubuntu 1.8M Jun  5 06:24 stations.pkl.gz\r\n",
        "-rw-rw-r-- 1 ubuntu ubuntu 2.6K Jun  6 03:15 Stations_Statistics.py\r\n",
        "-rw-rw-r-- 1 ubuntu ubuntu    0 Jun  6 03:34 StationStatistics\r\n",
        "-rw-rw-r-- 1 ubuntu ubuntu 719M Jun  5 04:52 StationStatistics_backup\r\n",
        "-rw-rw-r-- 1 ubuntu ubuntu 104K Jun  7 03:08 StationStatistics_local\r\n",
        "-rw-rw-r-- 1 ubuntu ubuntu 104M Jun  5 06:10 Statistics.pkl\r\n",
        "-rw-rw-r-- 1 ubuntu ubuntu 510K Jun 14 05:21 Story.ipynb\r\n",
        "-rw-rw-r-- 1 ubuntu ubuntu 117K Jun 13 08:23 Surat_IN005171200__TMAX_on_May_18th_2010.png\r\n",
        "-rw-rw-r-- 1 ubuntu ubuntu 2.6M Jun  5 23:46 test\r\n",
        "-rw------- 1 ubuntu ubuntu  76K Jun  7 08:31 test.txt.save\r\n",
        "-rw------- 1 ubuntu ubuntu 320K Jun  7 08:31 test.txt.save.1\r\n",
        "-rw-rw-r-- 1 ubuntu ubuntu    0 Jun  5 22:48 tmin\r\n",
        "-rw-rw-r-- 1 ubuntu ubuntu 2.6K Jun  6 02:41 Untitled0.ipynb\r\n",
        "-rw-rw-r-- 1 ubuntu ubuntu 1.9M Jun  6 04:47 Untitled1.ipynb\r\n",
        "-rw-rw-r-- 1 ubuntu ubuntu  15K Jun  7 10:16 Untitled2.ipynb\r\n",
        "-rw-rw-r-- 1 ubuntu ubuntu 489K Jun 14 04:44 Untitled3.ipynb\r\n",
        "-rw-rw-r-- 1 ubuntu ubuntu    0 Jun 12 08:03 valid_count\r\n",
        "drwxrwxr-x 2 ubuntu ubuntu 4.0K Jun  7 01:28 vineel_data\r\n",
        "-rw-rw-r-- 1 ubuntu ubuntu 517K Jun  7 23:50 vineel.txt\r\n"
       ]
      }
     ],
     "prompt_number": 31
    },
    {
     "cell_type": "code",
     "collapsed": false,
     "input": [
      "%%writefile ComputeCovar.py\n",
      "\n",
      "#!/usr/bin/python\n",
      "\"\"\"\n",
      "collect the statistics for each station.\n",
      "\"\"\"\n",
      "import re,pickle,base64,zlib\n",
      "import cPickle as cpkl\n",
      "import numpy as np\n",
      "from sys import stderr\n",
      "import sys\n",
      "import  scipy.stats as stats\n",
      "sys.path.append('/usr/lib/python2.6/dist-packages') # a hack because anaconda made mrjob unreachable\n",
      "from mrjob.job import MRJob\n",
      "from mrjob.protocol import *\n",
      "\n",
      "import traceback\n",
      "from functools import wraps\n",
      "from sys import stderr\n",
      "import datetime\n",
      "\n",
      "def dumps(Value):\n",
      "    \"\"\" Encode a value as a string \"\"\"\n",
      "    return base64.b64encode(zlib.compress(cpkl.dumps(Value),9))\n",
      "\n",
      "def loads(eVal):\n",
      "    \"\"\" Decode a string into a value \"\"\"\n",
      "    return cpkl.loads(zlib.decompress(base64.b64decode(eVal)))\n",
      "\n",
      "threshold = 180\n",
      "class ComputeCovar(MRJob):\n",
      "     \n",
      "    def mapper(self, _, line):\n",
      "        elements=line.split()\n",
      "        vec = loads(elements[1][1:-1])\n",
      "        yield(elements[0], vec.tolist())\n",
      "           \n",
      "          \n",
      "    def reducer(self, grp_id, vectors):\n",
      "        D = {}\n",
      "        D['outer'] = np.zeros((365,365))\n",
      "        D['mean'] = np.zeros(365)\n",
      "        D['size'] = 0\n",
      "        \n",
      "        for vl in vectors:\n",
      "            vec = np.array(vl)\n",
      "            vec_mean = stats.nanmean(vec) #replace nan values with mean\n",
      "            vec[np.isnan(vec)] = vec_mean \n",
      "            D['outer'] += np.outer(vec,vec)\n",
      "            D['mean'] += vec\n",
      "            D['size'] +=1\n",
      "        D['mean'] = D['mean'] / D['size']\n",
      "        yield(grp_id, dumps(D))\n",
      "             \n",
      "if __name__ == '__main__':\n",
      "    ComputeCovar.run()\n"
     ],
     "language": "python",
     "metadata": {},
     "outputs": [
      {
       "output_type": "stream",
       "stream": "stdout",
       "text": [
        "Overwriting ComputeCovar.py\n"
       ]
      }
     ],
     "prompt_number": 1
    },
    {
     "cell_type": "code",
     "collapsed": false,
     "input": [
      "!python ComputeCovar.py gsod_data_temp > gsod_covar_temp"
     ],
     "language": "python",
     "metadata": {},
     "outputs": [
      {
       "output_type": "stream",
       "stream": "stdout",
       "text": [
        "using configs in /home/ubuntu/.mrjob.conf\r\n"
       ]
      },
      {
       "output_type": "stream",
       "stream": "stdout",
       "text": [
        "creating tmp directory /tmp/ComputeCovar.ubuntu.20140614.054419.538674\r\n"
       ]
      },
      {
       "output_type": "stream",
       "stream": "stdout",
       "text": [
        "writing to /tmp/ComputeCovar.ubuntu.20140614.054419.538674/step-0-mapper_part-00000\r\n"
       ]
      },
      {
       "output_type": "stream",
       "stream": "stdout",
       "text": [
        "^CTraceback (most recent call last):\r\n",
        "  File \"ComputeCovar.py\", line 55, in <module>\r\n",
        "    ComputeCovar.run()\r\n",
        "  File \"/usr/local/lib/python2.7/dist-packages/mrjob/job.py\", line 494, in run\r\n",
        "    mr_job.execute()\r\n",
        "  File \"/usr/local/lib/python2.7/dist-packages/mrjob/job.py\", line 512, in execute\r\n",
        "    super(MRJob, self).execute()\r\n",
        "  File \"/usr/local/lib/python2.7/dist-packages/mrjob/launch.py\", line 147, in execute\r\n",
        "    self.run_job()\r\n",
        "  File \"/usr/local/lib/python2.7/dist-packages/mrjob/launch.py\", line 208, in run_job\r\n",
        "    runner.run()\r\n",
        "  File \"/usr/local/lib/python2.7/dist-packages/mrjob/runner.py\", line 458, in run\r\n",
        "    self._run()\r\n",
        "  File \"/usr/local/lib/python2.7/dist-packages/mrjob/sim.py\", line 182, in _run\r\n",
        "    self._invoke_step(step_num, 'mapper')\r\n",
        "  File \"/usr/local/lib/python2.7/dist-packages/mrjob/sim.py\", line 269, in _invoke_step\r\n",
        "    working_dir, env)\r\n",
        "  File \"/usr/local/lib/python2.7/dist-packages/mrjob/inline.py\", line 159, in _run_step\r\n",
        "    child_instance.execute()\r\n",
        "  File \"/usr/local/lib/python2.7/dist-packages/mrjob/job.py\", line 503, in execute\r\n",
        "    self.run_mapper(self.options.step_num)\r\n",
        "  File \"/usr/local/lib/python2.7/dist-packages/mrjob/job.py\", line 568, in run_mapper\r\n",
        "    for out_key, out_value in mapper(key, value) or ():\r\n",
        "  File \"ComputeCovar.py\", line 34, in mapper\r\n",
        "    vec = loads(elements[1][1:-1])\r\n",
        "  File \"ComputeCovar.py\", line 27, in loads\r\n",
        "    return cpkl.loads(zlib.decompress(base64.b64decode(eVal)))\r\n",
        "KeyboardInterrupt\r\n",
        "\r\n"
       ]
      }
     ],
     "prompt_number": 2
    },
    {
     "cell_type": "code",
     "collapsed": false,
     "input": [
      "#!s3cmd put gsod_data_temp s3://vineel-bucket/gsod_data_temp\n",
      "job_flow_id=find_waiting_flow(key_id,secret_key)\n",
      "!python ComputeCovar.py -r emr --emr-job-flow-id $job_flow_id s3://vineel-bucket/gsod_data_temp > gsod_covar_temp"
     ],
     "language": "python",
     "metadata": {},
     "outputs": [
      {
       "output_type": "stream",
       "stream": "stdout",
       "text": [
        "<boto.emr.emrobject.JobFlow object at 0x33e5c90> no_script.yoavfreund.20140611.181713.270989 j-3QZOHADZF9KY1 WAITING\n",
        "<boto.emr.emrobject.JobFlow object at 0x369dc90> no_script.yoavfreund.20140611.181722.314318 j-3MR2RR5OEXRQ7 WAITING\n",
        "<boto.emr.emrobject.JobFlow object at 0x36cebd0> no_script.yoavfreund.20140611.181730.511103 j-2S5LTMBIWD2WB WAITING\n",
        "<boto.emr.emrobject.JobFlow object at 0x35cb150> no_script.yoavfreund.20140611.181738.864430 j-3TFYHEIHI9VOY WAITING\n",
        "<boto.emr.emrobject.JobFlow object at 0x3af6250> no_script.yoavfreund.20140613.042333.580519 j-27Y940LIXXNSZ WAITING\n",
        "<boto.emr.emrobject.JobFlow object at 0x3b02c50> no_script.yoavfreund.20140613.042344.097071 j-3LP88IFUHBOHO WAITING\n",
        "<boto.emr.emrobject.JobFlow object at 0x3b272d0> no_script.yoavfreund.20140613.042353.469396 j-2YMCM4F2XO00B WAITING\n",
        "<boto.emr.emrobject.JobFlow object at 0x3bb34d0> no_script.yoavfreund.20140613.042403.179810 j-2DMPRXAW49U58 WAITING\n"
       ]
      },
      {
       "output_type": "stream",
       "stream": "stdout",
       "text": [
        "using configs in /home/ubuntu/.mrjob.conf\r\n"
       ]
      },
      {
       "output_type": "stream",
       "stream": "stdout",
       "text": [
        "creating new scratch bucket mrjob-21cd85654d933fa6\r\n",
        "using s3://mrjob-21cd85654d933fa6/tmp/ as our scratch dir on S3\r\n"
       ]
      },
      {
       "output_type": "stream",
       "stream": "stdout",
       "text": [
        "creating tmp directory /tmp/ComputeCovar.ubuntu.20140614.054733.407909\r\n"
       ]
      },
      {
       "output_type": "stream",
       "stream": "stdout",
       "text": [
        "creating S3 bucket 'mrjob-21cd85654d933fa6' to use as scratch space\r\n"
       ]
      },
      {
       "output_type": "stream",
       "stream": "stdout",
       "text": [
        "Copying non-input files into s3://mrjob-21cd85654d933fa6/tmp/ComputeCovar.ubuntu.20140614.054733.407909/files/\r\n"
       ]
      },
      {
       "output_type": "stream",
       "stream": "stdout",
       "text": [
        "Adding our job to existing job flow j-2DMPRXAW49U58\r\n"
       ]
      },
      {
       "output_type": "stream",
       "stream": "stdout",
       "text": [
        "Job launched 30.3s ago, status RUNNING: Running step (ComputeCovar.ubuntu.20140614.054733.407909: Step 1 of 1)\r\n"
       ]
      },
      {
       "output_type": "stream",
       "stream": "stdout",
       "text": [
        "Job launched 60.7s ago, status RUNNING: Running step (ComputeCovar.ubuntu.20140614.054733.407909: Step 1 of 1)\r\n"
       ]
      },
      {
       "output_type": "stream",
       "stream": "stdout",
       "text": [
        "Job launched 91.2s ago, status RUNNING: Running step (ComputeCovar.ubuntu.20140614.054733.407909: Step 1 of 1)\r\n"
       ]
      },
      {
       "output_type": "stream",
       "stream": "stdout",
       "text": [
        "Job launched 121.5s ago, status RUNNING: Running step (ComputeCovar.ubuntu.20140614.054733.407909: Step 1 of 1)\r\n"
       ]
      },
      {
       "output_type": "stream",
       "stream": "stdout",
       "text": [
        "Job launched 151.9s ago, status RUNNING: Running step (ComputeCovar.ubuntu.20140614.054733.407909: Step 1 of 1)\r\n"
       ]
      },
      {
       "output_type": "stream",
       "stream": "stdout",
       "text": [
        "Job launched 182.3s ago, status RUNNING: Running step (ComputeCovar.ubuntu.20140614.054733.407909: Step 1 of 1)\r\n"
       ]
      },
      {
       "output_type": "stream",
       "stream": "stdout",
       "text": [
        "Job launched 212.7s ago, status RUNNING: Running step (ComputeCovar.ubuntu.20140614.054733.407909: Step 1 of 1)\r\n"
       ]
      },
      {
       "output_type": "stream",
       "stream": "stdout",
       "text": [
        "Job launched 243.1s ago, status RUNNING: Running step (ComputeCovar.ubuntu.20140614.054733.407909: Step 1 of 1)\r\n"
       ]
      },
      {
       "output_type": "stream",
       "stream": "stdout",
       "text": [
        "Job completed.\r\n",
        "Running time was 228.0s (not counting time spent waiting for the EC2 instances)\r\n",
        "ec2_key_pair_file not specified, going to S3\r\n",
        "Fetching counters from S3...\r\n",
        "Waiting 5.0s for S3 eventual consistency\r\n"
       ]
      },
      {
       "output_type": "stream",
       "stream": "stdout",
       "text": [
        "Counters may not have been uploaded to S3 yet. Try again in 5 minutes with: mrjob fetch-logs --counters j-2DMPRXAW49U58\r\n",
        "Counters from step 1:\r\n",
        "  (no counters found)\r\n"
       ]
      },
      {
       "output_type": "stream",
       "stream": "stdout",
       "text": [
        "Streaming final output from s3://mrjob-21cd85654d933fa6/tmp/ComputeCovar.ubuntu.20140614.054733.407909/output/\r\n"
       ]
      },
      {
       "output_type": "stream",
       "stream": "stdout",
       "text": [
        "removing tmp directory /tmp/ComputeCovar.ubuntu.20140614.054733.407909\r\n",
        "Removing all files in s3://mrjob-21cd85654d933fa6/tmp/ComputeCovar.ubuntu.20140614.054733.407909/\r\n"
       ]
      }
     ],
     "prompt_number": 7
    },
    {
     "cell_type": "code",
     "collapsed": false,
     "input": [
      "!s3cmd put gsod_data_temp s3://vineel-bucket/gsod_data_temp"
     ],
     "language": "python",
     "metadata": {},
     "outputs": [
      {
       "output_type": "stream",
       "stream": "stdout",
       "text": [
        "WARNING: Module python-magic is not available. Guessing MIME types based on file extensions.\r\n"
       ]
      },
      {
       "output_type": "stream",
       "stream": "stdout",
       "text": [
        "gsod_data_temp -> s3://vineel-bucket/gsod_data_temp  [part 1 of 29, 15MB]\r\n",
        "\r",
        "     4096 of 15728640     0% in    0s    12.17 MB/s"
       ]
      },
      {
       "output_type": "stream",
       "stream": "stdout",
       "text": [
        "\r",
        " 15728640 of 15728640   100% in    1s    13.64 MB/s\r",
        " 15728640 of 15728640   100% in    1s    13.64 MB/s  done\r\n",
        "gsod_data_temp -> s3://vineel-bucket/gsod_data_temp  [part 2 of 29, 15MB]\r\n",
        "\r",
        "     4096 of 15728640     0% in    0s    15.69 MB/s"
       ]
      },
      {
       "output_type": "stream",
       "stream": "stdout",
       "text": [
        "\r",
        " 15728640 of 15728640   100% in    0s    28.36 MB/s  done\r\n",
        "gsod_data_temp -> s3://vineel-bucket/gsod_data_temp  [part 3 of 29, 15MB]\r\n",
        "\r",
        "     4096 of 15728640     0% in    0s    14.97 MB/s"
       ]
      },
      {
       "output_type": "stream",
       "stream": "stdout",
       "text": [
        "\r",
        " 15728640 of 15728640   100% in    0s    21.98 MB/s  done\r\n",
        "gsod_data_temp -> s3://vineel-bucket/gsod_data_temp  [part 4 of 29, 15MB]\r\n",
        "\r",
        "     4096 of 15728640     0% in    0s    15.14 MB/s"
       ]
      },
      {
       "output_type": "stream",
       "stream": "stdout",
       "text": [
        "\r",
        " 15728640 of 15728640   100% in    0s    18.92 MB/s  done\r\n",
        "gsod_data_temp -> s3://vineel-bucket/gsod_data_temp  [part 5 of 29, 15MB]\r\n",
        "\r",
        "     4096 of 15728640     0% in    0s    15.02 MB/s"
       ]
      },
      {
       "output_type": "stream",
       "stream": "stdout",
       "text": [
        "\r",
        " 15728640 of 15728640   100% in    0s    22.58 MB/s  done\r\n",
        "gsod_data_temp -> s3://vineel-bucket/gsod_data_temp  [part 6 of 29, 15MB]\r\n",
        "\r",
        "     4096 of 15728640     0% in    0s    16.01 MB/s"
       ]
      },
      {
       "output_type": "stream",
       "stream": "stdout",
       "text": [
        "\r",
        " 15728640 of 15728640   100% in    0s    22.97 MB/s  done\r\n",
        "gsod_data_temp -> s3://vineel-bucket/gsod_data_temp  [part 7 of 29, 15MB]\r\n",
        "\r",
        "     4096 of 15728640     0% in    0s    15.56 MB/s"
       ]
      },
      {
       "output_type": "stream",
       "stream": "stdout",
       "text": [
        "\r",
        " 15728640 of 15728640   100% in    0s    28.75 MB/s  done\r\n",
        "gsod_data_temp -> s3://vineel-bucket/gsod_data_temp  [part 8 of 29, 15MB]\r\n",
        "\r",
        "     4096 of 15728640     0% in    0s    15.50 MB/s"
       ]
      },
      {
       "output_type": "stream",
       "stream": "stdout",
       "text": [
        "\r",
        " 15728640 of 15728640   100% in    0s    18.93 MB/s  done\r\n",
        "gsod_data_temp -> s3://vineel-bucket/gsod_data_temp  [part 9 of 29, 15MB]\r\n",
        "\r",
        "     4096 of 15728640     0% in    0s    15.94 MB/s"
       ]
      },
      {
       "output_type": "stream",
       "stream": "stdout",
       "text": [
        "\r",
        " 15728640 of 15728640   100% in    0s    15.78 MB/s  done\r\n",
        "gsod_data_temp -> s3://vineel-bucket/gsod_data_temp  [part 10 of 29, 15MB]\r\n",
        "\r",
        "     4096 of 15728640     0% in    0s    16.08 MB/s"
       ]
      },
      {
       "output_type": "stream",
       "stream": "stdout",
       "text": [
        "\r",
        " 15728640 of 15728640   100% in    0s    30.86 MB/s  done\r\n",
        "gsod_data_temp -> s3://vineel-bucket/gsod_data_temp  [part 11 of 29, 15MB]\r\n",
        "\r",
        "     4096 of 15728640     0% in    0s    16.28 MB/s"
       ]
      },
      {
       "output_type": "stream",
       "stream": "stdout",
       "text": [
        "\r",
        " 15728640 of 15728640   100% in    0s    19.87 MB/s  done\r\n",
        "gsod_data_temp -> s3://vineel-bucket/gsod_data_temp  [part 12 of 29, 15MB]\r\n",
        "\r",
        "     4096 of 15728640     0% in    0s    16.01 MB/s"
       ]
      },
      {
       "output_type": "stream",
       "stream": "stdout",
       "text": [
        "\r",
        " 15728640 of 15728640   100% in    0s    20.94 MB/s  done\r\n",
        "gsod_data_temp -> s3://vineel-bucket/gsod_data_temp  [part 13 of 29, 15MB]\r\n",
        "\r",
        "     4096 of 15728640     0% in    0s    18.78 MB/s"
       ]
      },
      {
       "output_type": "stream",
       "stream": "stdout",
       "text": [
        "\r",
        " 15728640 of 15728640   100% in    0s    20.92 MB/s  done\r\n",
        "gsod_data_temp -> s3://vineel-bucket/gsod_data_temp  [part 14 of 29, 15MB]\r\n",
        "\r",
        "     4096 of 15728640     0% in    0s    15.14 MB/s"
       ]
      },
      {
       "output_type": "stream",
       "stream": "stdout",
       "text": [
        "\r",
        " 15728640 of 15728640   100% in    0s    25.33 MB/s  done\r\n",
        "gsod_data_temp -> s3://vineel-bucket/gsod_data_temp  [part 15 of 29, 15MB]\r\n",
        "\r",
        "     4096 of 15728640     0% in    0s    14.69 MB/s"
       ]
      },
      {
       "output_type": "stream",
       "stream": "stdout",
       "text": [
        "\r",
        " 15728640 of 15728640   100% in    0s    25.38 MB/s  done\r\n",
        "gsod_data_temp -> s3://vineel-bucket/gsod_data_temp  [part 16 of 29, 15MB]\r\n",
        "\r",
        "     4096 of 15728640     0% in    0s    16.01 MB/s"
       ]
      },
      {
       "output_type": "stream",
       "stream": "stdout",
       "text": [
        "\r",
        " 15728640 of 15728640   100% in    0s    17.84 MB/s  done\r\n",
        "gsod_data_temp -> s3://vineel-bucket/gsod_data_temp  [part 17 of 29, 15MB]\r\n",
        "\r",
        "     4096 of 15728640     0% in    0s    15.62 MB/s"
       ]
      },
      {
       "output_type": "stream",
       "stream": "stdout",
       "text": [
        "\r",
        " 15728640 of 15728640   100% in    0s    31.88 MB/s  done\r\n",
        "gsod_data_temp -> s3://vineel-bucket/gsod_data_temp  [part 18 of 29, 15MB]\r\n",
        "\r",
        "     4096 of 15728640     0% in    0s    14.52 MB/s"
       ]
      },
      {
       "output_type": "stream",
       "stream": "stdout",
       "text": [
        "\r",
        " 15728640 of 15728640   100% in    0s    18.69 MB/s  done\r\n",
        "gsod_data_temp -> s3://vineel-bucket/gsod_data_temp  [part 19 of 29, 15MB]\r\n",
        "\r",
        "     4096 of 15728640     0% in    0s    15.56 MB/s"
       ]
      },
      {
       "output_type": "stream",
       "stream": "stdout",
       "text": [
        "\r",
        " 15728640 of 15728640   100% in    0s    32.92 MB/s  done\r\n",
        "gsod_data_temp -> s3://vineel-bucket/gsod_data_temp  [part 20 of 29, 15MB]\r\n",
        "\r",
        "     4096 of 15728640     0% in    0s    16.41 MB/s"
       ]
      },
      {
       "output_type": "stream",
       "stream": "stdout",
       "text": [
        "\r",
        " 15728640 of 15728640   100% in    0s    20.04 MB/s  done\r\n",
        "gsod_data_temp -> s3://vineel-bucket/gsod_data_temp  [part 21 of 29, 15MB]\r\n",
        "\r",
        "     4096 of 15728640     0% in    0s    14.26 MB/s"
       ]
      },
      {
       "output_type": "stream",
       "stream": "stdout",
       "text": [
        "\r",
        " 11530240 of 15728640    73% in    1s     6.64 MB/s"
       ]
      },
      {
       "output_type": "stream",
       "stream": "stdout",
       "text": [
        "\r",
        " 15728640 of 15728640   100% in    2s     6.93 MB/s  done\r\n",
        "gsod_data_temp -> s3://vineel-bucket/gsod_data_temp  [part 22 of 29, 15MB]\r\n",
        "\r",
        "     4096 of 15728640     0% in    0s    15.94 MB/s"
       ]
      },
      {
       "output_type": "stream",
       "stream": "stdout",
       "text": [
        "\r",
        " 15728640 of 15728640   100% in    0s    22.27 MB/s  done\r\n",
        "gsod_data_temp -> s3://vineel-bucket/gsod_data_temp  [part 23 of 29, 15MB]\r\n",
        "\r",
        "     4096 of 15728640     0% in    0s    16.14 MB/s"
       ]
      },
      {
       "output_type": "stream",
       "stream": "stdout",
       "text": [
        "\r",
        " 15728640 of 15728640   100% in    0s    28.39 MB/s  done\r\n",
        "gsod_data_temp -> s3://vineel-bucket/gsod_data_temp  [part 24 of 29, 15MB]\r\n",
        "\r",
        "     4096 of 15728640     0% in    0s    15.26 MB/s"
       ]
      },
      {
       "output_type": "stream",
       "stream": "stdout",
       "text": [
        "\r",
        " 15728640 of 15728640   100% in    0s    21.03 MB/s  done\r\n",
        "gsod_data_temp -> s3://vineel-bucket/gsod_data_temp  [part 25 of 29, 15MB]\r\n",
        "\r",
        "     4096 of 15728640     0% in    0s    15.75 MB/s"
       ]
      },
      {
       "output_type": "stream",
       "stream": "stdout",
       "text": [
        "\r",
        " 15728640 of 15728640   100% in    0s    17.78 MB/s  done\r\n",
        "gsod_data_temp -> s3://vineel-bucket/gsod_data_temp  [part 26 of 29, 15MB]\r\n",
        "\r",
        "     4096 of 15728640     0% in    0s    15.75 MB/s"
       ]
      },
      {
       "output_type": "stream",
       "stream": "stdout",
       "text": [
        "\r",
        " 15728640 of 15728640   100% in    0s    27.56 MB/s  done\r\n",
        "gsod_data_temp -> s3://vineel-bucket/gsod_data_temp  [part 27 of 29, 15MB]\r\n",
        "\r",
        "     4096 of 15728640     0% in    0s    15.50 MB/s"
       ]
      },
      {
       "output_type": "stream",
       "stream": "stdout",
       "text": [
        "\r",
        " 10899456 of 15728640    69% in    1s     6.12 MB/s"
       ]
      },
      {
       "output_type": "stream",
       "stream": "stdout",
       "text": [
        "\r",
        " 15728640 of 15728640   100% in    2s     7.13 MB/s  done\r\n",
        "gsod_data_temp -> s3://vineel-bucket/gsod_data_temp  [part 28 of 29, 15MB]\r\n",
        "\r",
        "     4096 of 15728640     0% in    0s    15.88 MB/s"
       ]
      },
      {
       "output_type": "stream",
       "stream": "stdout",
       "text": [
        "\r",
        " 15728640 of 15728640   100% in    0s    26.81 MB/s  done\r\n",
        "gsod_data_temp -> s3://vineel-bucket/gsod_data_temp  [part 29 of 29, 6MB]\r\n",
        "\r",
        "    4096 of 7214307     0% in    0s    16.41 MB/s"
       ]
      },
      {
       "output_type": "stream",
       "stream": "stdout",
       "text": [
        "\r",
        " 7214307 of 7214307   100% in    0s    14.94 MB/s  done\r\n"
       ]
      }
     ],
     "prompt_number": 17
    },
    {
     "cell_type": "code",
     "collapsed": false,
     "input": [],
     "language": "python",
     "metadata": {},
     "outputs": []
    },
    {
     "cell_type": "heading",
     "level": 3,
     "metadata": {},
     "source": [
      "MDL Clustering"
     ]
    },
    {
     "cell_type": "code",
     "collapsed": false,
     "input": [],
     "language": "python",
     "metadata": {},
     "outputs": []
    }
   ],
   "metadata": {}
  }
 ]
}