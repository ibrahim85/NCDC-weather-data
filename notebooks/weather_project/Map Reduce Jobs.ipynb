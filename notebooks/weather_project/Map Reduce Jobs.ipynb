{
 "metadata": {
  "name": "",
  "signature": "sha256:7b1a26e7cf0062cc5f5d2c026bae3e1a2086511ac3b454e2c209527703b225b4"
 },
 "nbformat": 3,
 "nbformat_minor": 0,
 "worksheets": [
  {
   "cells": [
    {
     "cell_type": "code",
     "collapsed": false,
     "input": [
      "%%writefile MeanReadings.py\n",
      "\n",
      "#!/usr/bin/python\n",
      "\"\"\"To find mean min and max temp for each station\"\"\"\n",
      "import re,pickle,base64,zlib\n",
      "import sys\n",
      "import numpy as np\n",
      "from StringIO import StringIO\n",
      "sys.path.append('/usr/lib/python2.6/dist-packages') \n",
      "from mrjob.job import MRJob  \n",
      "\n",
      "class MeanReadings(MRJob):\n",
      "    \n",
      "    def mapper(self, _, line):\n",
      "        self.increment_counter('MrJob Counters','mapper',1)\n",
      "        elements = line.split(',')\n",
      "        #values = np.genfromtxt(StringIO(line[22:]), delimiter=\",\")\n",
      "        yield(elements[0],line[22:])\n",
      "        \n",
      "    def reducer(self, station, readings):\n",
      "        readings = list(readings)\n",
      "        self.increment_counter('MrJob Counters','reducer',1)\n",
      "        avg = np.zeros((1,730))\n",
      "        avg_var = np.zeros((1,730))\n",
      "        count = np.zeros((1,730),dtype=float)\n",
      "        values = np.zeros((1,730))\n",
      "        for each in readings:\n",
      "            v = each.strip().split(',') \n",
      "            for i in range(len(v)):\n",
      "                if v[i]=='': values[0,i] = np.nan\n",
      "                else: values[0,i] = int(v[i])\n",
      "            count = count + np.isfinite(values)\n",
      "            values[np.isnan(values)] = 0\n",
      "            avg = avg + values\n",
      "        avg = avg/count\n",
      "        for each in readings:\n",
      "            v = each.strip().split(',') \n",
      "            for i in range(len(v)):\n",
      "                if v[i]=='': values[0,i] = 0\n",
      "                else: values[0,i] = int(v[i])-avg[0,i]\n",
      "            avg_var = avg_var + np.square(values)\n",
      "        avg_var = np.sqrt(avg_var/count)\n",
      "        data = (avg, avg_var, count)\n",
      "        yield(station, pickle.dumps(data))               \n",
      "\n",
      "if __name__ == '__main__':\n",
      "    MeanReadings.run()"
     ],
     "language": "python",
     "metadata": {},
     "outputs": [
      {
       "output_type": "stream",
       "stream": "stdout",
       "text": [
        "Overwriting MeanReadings.py\n"
       ]
      }
     ],
     "prompt_number": 48
    },
    {
     "cell_type": "code",
     "collapsed": false,
     "input": [
      "import time\n",
      "t1 = time.clock()\n",
      "!python MeanReadings.py test \n",
      "t2 = time.clock()\n",
      "print \"time taken is\", t2-t1"
     ],
     "language": "python",
     "metadata": {},
     "outputs": [
      {
       "output_type": "stream",
       "stream": "stdout",
       "text": [
        "time taken is 0.0\n"
       ]
      }
     ],
     "prompt_number": 47
    },
    {
     "cell_type": "code",
     "collapsed": false,
     "input": [
      "#!grep \"^AG000060611\" test"
     ],
     "language": "python",
     "metadata": {},
     "outputs": [],
     "prompt_number": 46
    },
    {
     "cell_type": "code",
     "collapsed": false,
     "input": [],
     "language": "python",
     "metadata": {},
     "outputs": []
    }
   ],
   "metadata": {}
  }
 ]
}