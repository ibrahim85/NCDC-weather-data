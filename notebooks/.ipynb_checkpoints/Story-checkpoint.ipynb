{
 "metadata": {
  "name": "",
  "signature": "sha256:0b98d047ae69a4805f6477f0bbca4d2ee2cd5715be08f22534b049b4a3abb65e"
 },
 "nbformat": 3,
 "nbformat_minor": 0,
 "worksheets": [
  {
   "cells": [
    {
     "cell_type": "markdown",
     "metadata": {},
     "source": [
      "#<font face='Verdana'>Analyzing the datasets</font>#\n"
     ]
    },
    {
     "cell_type": "markdown",
     "metadata": {},
     "source": [
      "<font face='Verdana'>\n",
      "In the first part of this project, we have analyzed the available datasets.\n",
      "<style>a:hover {text-decoration: underline}</style>\n",
      "    NOAA\u2019s <a href = 'http://www.ncdc.noaa.gov/' style=\"color: black; text-decoration: none\" >National Climatic Data Center (NCDC)</a> maintains the world's largest climate data archive and provides <a href = 'http://www.ncdc.noaa.gov/data-access/quick-links' style=\"color: black; text-decoration: none\" >climate and weather datasets</a> to the users worldwide.  <br /> <br />\n",
      "We looked at two of their datasets-\n",
      "<ul><li> Global Historical Climatology Network-Daily  (GHCN-D) </li>\n",
      "<li> Global Summary of the Day  (GSOD) </li></ul> <br /> \n",
      "and analyzed distribution of the recordings temporally and spatially.\n",
      "</font> \n"
     ]
    },
    {
     "cell_type": "markdown",
     "metadata": {},
     "source": [
      "###<font face = 'Verdana'>1. Global Historical Climatology Network-Daily Dataset (GHCN-D) </font>###"
     ]
    },
    {
     "cell_type": "markdown",
     "metadata": {},
     "source": [
      "<font face='Verdana'>\n",
      "The <a href = 'http://www1.ncdc.noaa.gov/pub/data/ghcn/daily/' style=\"color: black; text-decoration: none\" >GHCN-Daily dataset</a> contains daily climate records from over 80,000 stations worldwide. <br /> <br />\n",
      "\n",
      "The dataset includes five core readings :\n",
      "<table align=\"left\" >\n",
      "<tr><td>Precipitation (PRCP)</td></tr>\n",
      "  <tr><td>Snowfall (SNOW)</td></tr>\t\t\n",
      "  <tr><td>Snow depth (SNWD)</td></tr>\n",
      "  <tr><td>Maximum temperature (TMAX)</td></tr>\n",
      "  <tr><td>Minimum temperature (TMIN)</td></tr>\n",
      "</table>\n",
      "<br style=\"clear:both\" /><br>A typical single line in the data file has the following format-<br style=\"clear:both\" />\n",
      "<font size=\"2\">\n",
      "<table align=\"left\" >\n",
      "<tr>\n",
      "<td>Station ID</td><td>Measurement </td><td>Year</td><td>[365 readings for each day of the year]</td>\n",
      "</tr>\n",
      "</table>\n",
      "<br style=\"clear:both\" />\n",
      "</font>\n",
      "</font>"
     ]
    },
    {
     "cell_type": "markdown",
     "metadata": {},
     "source": [
      "###<font face = 'Verdana'>Temporal Evolution of Station Networks</font>###\n"
     ]
    },
    {
     "cell_type": "code",
     "collapsed": false,
     "input": [],
     "language": "python",
     "metadata": {},
     "outputs": []
    },
    {
     "cell_type": "markdown",
     "metadata": {},
     "source": [
      "###<font face = 'Verdana'>2. Global Summary of the Day Dataset (GSOD) </font>###"
     ]
    },
    {
     "cell_type": "code",
     "collapsed": false,
     "input": [],
     "language": "python",
     "metadata": {},
     "outputs": []
    },
    {
     "cell_type": "markdown",
     "metadata": {},
     "source": [
      "\n",
      "\n",
      "<font face='Verdana'>\n",
      "Daily weather elements in the <a href = 'http://www.ncdc.noaa.gov/cgi-bin/res40.pl?page=gsod.html' style=\"color: black; text-decoration: none\" >GSOD dataset</a> include: \n",
      "<table align=\"left\">\n",
      "<tr><td>mean temperature</td></tr>\n",
      "  <tr><td>mean dew point</td></tr>\t\t\n",
      "  <tr><td>mean sea level pressure</td></tr>\n",
      "  <tr><td>station mean pressure</td></tr>\n",
      "  <tr><td>maximum and minimum temperature</td></tr>\n",
      "  <tr><td>maximum sustained wind speed and maximum gust</td></tr>\n",
      "  <tr><td>precipitation amount</td></tr>\t\t\n",
      "  <tr><td>snow depth</td></tr>\n",
      "  <tr><td>other weather indicators</td></tr>\n",
      "</table>\n",
      "<br style=\"clear:both\" ><br>A typical single line in the data file has the following format - \n",
      "<font size=\"1.5\">\n",
      "<table align=\"left\">\n",
      "<tr>\n",
      "<td>STN No.</td><td>WBAN No.</td><td>DATE</td><td>TEMP</td><td>Count</td><td>DEWP</td><td>Count</td><td>SLP</td><td>Count</td><td>STP</td><td>Count</td><td>VISIB</td><td>Count</td><td>WDSP</td><td>Count</td><td>MXSPD </td><td>GUST</td><td>TMAX(Flag)</td> <td>TMIN(Flag)</td><td>PRCP(Flag)</td><td>SNDP</td><td>FRSHTT</td>\n",
      "</tr>\n",
      "</table>\n",
      "</font>\n",
      "<br style=\"clear:both\" /><br>\n",
      "'Count' is used to indicate number of observations used in calculating mean. <br />\n",
      "'Flag' is used to indicate whether the mean was calculate using explicit measurement report or from 'hourly' data. <br />\n",
      "More details about the dataset contents can be found here - <a href = \"ftp://ftp.ncdc.noaa.gov/pub/data/gsod/readme.txt\" style=\"color: black; text-decoration: none\" >ftp://ftp.ncdc.noaa.gov/pub/data/gsod/readme.txt</a>\n",
      "\n",
      "</font>"
     ]
    },
    {
     "cell_type": "code",
     "collapsed": false,
     "input": [],
     "language": "python",
     "metadata": {},
     "outputs": []
    }
   ],
   "metadata": {}
  }
 ]
}