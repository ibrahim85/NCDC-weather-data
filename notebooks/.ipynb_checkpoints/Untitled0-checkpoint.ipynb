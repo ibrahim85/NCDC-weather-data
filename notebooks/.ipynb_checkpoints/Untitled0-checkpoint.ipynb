{
 "metadata": {
  "name": "",
  "signature": "sha256:1f79b98333c5b486874c22e7b42382dc57590c0b366beae09d64ca1edc9c27ef"
 },
 "nbformat": 3,
 "nbformat_minor": 0,
 "worksheets": [
  {
   "cells": [
    {
     "cell_type": "code",
     "collapsed": false,
     "input": [
      "%ls"
     ],
     "language": "python",
     "metadata": {},
     "outputs": [
      {
       "output_type": "stream",
       "stream": "stdout",
       "text": [
        "Anomaly Detection.ipynb  Stations_Statistics.py    Statistics.pkl\r\n",
        "Dataset Analysis.ipynb   StationStatistics_backup  tmin\r\n",
        "stations.pkl             StationStatistics_local   Untitled0.ipynb\r\n"
       ]
      }
     ],
     "prompt_number": 9
    },
    {
     "cell_type": "code",
     "collapsed": false,
     "input": [
      "!wc -l < combinedALL"
     ],
     "language": "python",
     "metadata": {},
     "outputs": []
    },
    {
     "cell_type": "code",
     "collapsed": false,
     "input": [
      "%%writefile Mean_Readings.py\n",
      "\n",
      "import re,pickle,base64,zlib\n",
      "import numpy as np\n",
      "from StringIO import StringIO\n",
      "sys.path.append('/usr/lib/python2.6/dist-packages') # a hack because anaconda made mrjob unreachable\n",
      "from mrjob.job import MRJob\n",
      "from mrjob.protocol import *\n",
      "from sys import stderr       \n",
      "\n",
      "class Mean_Readings(MRJob):\n",
      "\n",
      "    def mapper(self, _, line):\n",
      "        self.increment_counter('MrJob Counters','mapper',1)\n",
      "        elements = line.split(',')\n",
      "        values = np.genfromtxt(StringIO(line[22:]), delimiter=\",\")\n",
      "        yield(elements[0],values)\n",
      "    \n",
      "    def reducer(self, station, readings):\n",
      "        self.increment_counter('MrJob Counters','reducer',1)\n",
      "        for each in readings:\n",
      "            values = np.genfromtxt(StringIO(each), delimiter=\",\")\n",
      "            count = count + isfinite(values)\n",
      "            values[isnan(values)] = 0\n",
      "            avg = avg + values\n",
      "        data = (avg/count, count)\n",
      "        yield(station, pickle.dumps(data)\n",
      "                              \n",
      "if __name__ == '__main__':\n",
      "    Mean_Readings.run()\n"
     ],
     "language": "python",
     "metadata": {},
     "outputs": []
    },
    {
     "cell_type": "code",
     "collapsed": false,
     "input": [],
     "language": "python",
     "metadata": {},
     "outputs": []
    }
   ],
   "metadata": {}
  }
 ]
}