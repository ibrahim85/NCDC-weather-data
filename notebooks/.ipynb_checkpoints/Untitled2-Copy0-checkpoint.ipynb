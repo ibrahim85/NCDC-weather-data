{
 "metadata": {
  "name": "",
  "signature": "sha256:fa90bc2099630a9ae06a621612874d1ee3c6693e5940bf08efc937d53c606eae"
 },
 "nbformat": 3,
 "nbformat_minor": 0,
 "worksheets": [
  {
   "cells": [
    {
     "cell_type": "code",
     "collapsed": false,
     "input": [
      "#Importing all the required modules\n",
      "\n",
      "import os, sys, pickle, numpy, base64, zlib\n",
      "import pandas as pd"
     ],
     "language": "python",
     "metadata": {},
     "outputs": [],
     "prompt_number": 1
    },
    {
     "cell_type": "code",
     "collapsed": false,
     "input": [
      "home_dir='/home/ubuntu/UCSD_BigData'\n",
      "sys.path.append(home_dir+'/utils')\n",
      "\n",
      "# Importing some functions necessary for MRjobs\n",
      "from find_waiting_flow import *\n",
      "from AWS_keypair_management import *\n",
      "\n",
      "cur_dir  = home_dir+'/notebooks/weather_project' #working directory"
     ],
     "language": "python",
     "metadata": {},
     "outputs": [],
     "prompt_number": 2
    },
    {
     "cell_type": "code",
     "collapsed": false,
     "input": [
      "#Loading required credentials and creating Config file for mrjob\n",
      "\n",
      "Creds= pickle.load(open('/home/ubuntu/Vault/Creds.pkl','rb'))\n",
      "pair=Creds['mrjob']\n",
      "key_id=pair['key_id']\n",
      "secret_key=pair['secret_key']\n",
      "ID=pair['ID']\n",
      "\n",
      "%cd $home_dir/utils/\n",
      "!python Make.mrjob.conf.py  #If EC2_VAULT is not defined, default location - '/home/ubuntu/Vault'\n",
      "%cd $home_dir/notebooks/weather_project"
     ],
     "language": "python",
     "metadata": {},
     "outputs": [
      {
       "output_type": "stream",
       "stream": "stdout",
       "text": [
        "/home/ubuntu/UCSD_BigData/utils\n",
        "Created the configuration file: /home/ubuntu/.mrjob.conf\r\n"
       ]
      },
      {
       "output_type": "stream",
       "stream": "stdout",
       "text": [
        "/home/ubuntu/UCSD_BigData/notebooks/weather_project\n"
       ]
      }
     ],
     "prompt_number": 3
    },
    {
     "cell_type": "code",
     "collapsed": false,
     "input": [
      "%load collect_GHCNStats.py"
     ],
     "language": "python",
     "metadata": {},
     "outputs": [],
     "prompt_number": 5
    },
    {
     "cell_type": "code",
     "collapsed": false,
     "input": [
      "%%writefile collect_GHCNStats.py\n",
      "\n",
      "#!/usr/bin/python\n",
      "\"\"\"\n",
      "collect the statistics for each station.\n",
      "\"\"\"\n",
      "import re,pickle,base64,zlib\n",
      "from sys import stderr\n",
      "import sys\n",
      "\n",
      "sys.path.append('/usr/lib/python2.6/dist-packages') # a hack because anaconda made mrjob unreachable\n",
      "from mrjob.job import MRJob\n",
      "from mrjob.protocol import *\n",
      "\n",
      "from sys import stderr\n",
      "\n",
      "\n",
      "def loads(eVal):\n",
      "    \"\"\" Decode a string into a value \"\"\"\n",
      "    return pickle.loads(zlib.decompress(base64.b64decode(eVal)))\n",
      "\n",
      "def dumps(Value):\n",
      "    \"\"\" Encode a value as a string \"\"\"\n",
      "    return base64.b64encode(zlib.compress(pickle.dumps(Value),9))\n",
      "\n",
      "\n",
      "class Collect_GHCNStats(MRJob):\n",
      "    \n",
      "    def mapper(self, _, line):\n",
      "        elements=line.split(',')\n",
      "        if(elements[1]!='year'):\n",
      "            yield(elements[0],elements[1:])\n",
      "            \n",
      "    def check_integrity(self,meas,year,length):\n",
      "        if year<1000 or year > 2014: return False\n",
      "        if meas=='': return False\n",
      "        if length != 367: return False\n",
      "        return True\n",
      "    \n",
      "    def reduce_one(self,S,vector):\n",
      "        meas=vector[0]\n",
      "        year=int(vector[1])\n",
      "        length=len(vector)\n",
      "        number_defined=sum([e!='' for e in vector[2:]])\n",
      "        assert self.check_integrity(meas,year,length)==True\n",
      "        S[(year, meas)]=number_defined\n",
      "        \n",
      "    def reducer(self, station, vectors):\n",
      "        S={}\n",
      "        for vector in vectors:\n",
      "            self.reduce_one(S,vector)\n",
      "        yield(station,dumps(S))\n",
      "                              \n",
      "if __name__ == '__main__':\n",
      "    Collect_GHCNStats.run()"
     ],
     "language": "python",
     "metadata": {},
     "outputs": [
      {
       "output_type": "stream",
       "stream": "stdout",
       "text": [
        "Overwriting collect_GHCNStats.py\n"
       ]
      }
     ],
     "prompt_number": 10
    },
    {
     "cell_type": "code",
     "collapsed": false,
     "input": [
      "!python collect_GHCNStats.py ALL.csv_1024 > ghcn_counts_local"
     ],
     "language": "python",
     "metadata": {},
     "outputs": [
      {
       "output_type": "stream",
       "stream": "stdout",
       "text": [
        "using configs in /home/ubuntu/.mrjob.conf\r\n",
        "creating tmp directory /tmp/collect_GHCNStats.ubuntu.20140607.094202.099072\r\n",
        "writing to /tmp/collect_GHCNStats.ubuntu.20140607.094202.099072/step-0-mapper_part-00000\r\n"
       ]
      },
      {
       "output_type": "stream",
       "stream": "stdout",
       "text": [
        "Counters from step 1:\r\n",
        "  (no counters found)\r\n",
        "writing to /tmp/collect_GHCNStats.ubuntu.20140607.094202.099072/step-0-mapper-sorted\r\n",
        "> sort /tmp/collect_GHCNStats.ubuntu.20140607.094202.099072/step-0-mapper_part-00000\r\n"
       ]
      },
      {
       "output_type": "stream",
       "stream": "stdout",
       "text": [
        "writing to /tmp/collect_GHCNStats.ubuntu.20140607.094202.099072/step-0-reducer_part-00000\r\n"
       ]
      },
      {
       "output_type": "stream",
       "stream": "stdout",
       "text": [
        "Counters from step 1:\r\n",
        "  (no counters found)\r\n",
        "Moving /tmp/collect_GHCNStats.ubuntu.20140607.094202.099072/step-0-reducer_part-00000 -> /tmp/collect_GHCNStats.ubuntu.20140607.094202.099072/output/part-00000\r\n",
        "Streaming final output from /tmp/collect_GHCNStats.ubuntu.20140607.094202.099072/output\r\n",
        "removing tmp directory /tmp/collect_GHCNStats.ubuntu.20140607.094202.099072\r\n"
       ]
      }
     ],
     "prompt_number": 11
    },
    {
     "cell_type": "code",
     "collapsed": false,
     "input": [
      "%%writefile collect_GSODStats.py\n",
      "#!/usr/bin/python\n",
      "\"\"\"\n",
      "collect the statistics for each station.\n",
      "\"\"\"\n",
      "import re,pickle,base64,zlib\n",
      "import numpy as np\n",
      "from sys import stderr\n",
      "import sys\n",
      "\n",
      "sys.path.append('/usr/lib/python2.6/dist-packages') # a hack because anaconda made mrjob unreachable\n",
      "from mrjob.job import MRJob\n",
      "from mrjob.protocol import *\n",
      "\n",
      "import traceback\n",
      "from functools import wraps\n",
      "from sys import stderr\n",
      "import datetime\n",
      "def loads(eVal):\n",
      "    \"\"\" Decode a string into a value \"\"\"\n",
      "    return pickle.loads(zlib.decompress(base64.b64decode(eVal)))\n",
      "\n",
      "def dumps(Value):\n",
      "    \"\"\" Encode a value as a string \"\"\"\n",
      "    return base64.b64encode(zlib.compress(pickle.dumps(Value),9))\n",
      "\n",
      "meas_choosen = ['TEMP','TMAX', 'TMIN', 'PRCP', 'SNDP']\n",
      "class Collect_GSODStats(MRJob):\n",
      "\n",
      "    def only_mapper(self, _, line):\n",
      "        elements=line.split(',')\n",
      "        yr, mnth, day = int(elements[2][:4]), int(elements[2][-4:-2]), int(elements[2][-2:])\n",
      "        if not (mnth ==2 and day == 29): #ignore Feb. 29 data from leap years\n",
      "            DayOfYear = datetime.date(2014, mnth, day).strftime(\"%j\") #choosing an arbitrary non-leap year\n",
      "            yield((elements[0], yr),[int(DayOfYear), [elements[2]]+ elements[-5:-1]])\n",
      "           \n",
      "          \n",
      "    def first_reducer(self, (stn,yr), vectors):\n",
      "        D = np.zeros((len(meas_choosen), 365) ,dtype = int)\n",
      "        for (day, meas) in vectors:\n",
      "            for (i, val) in enumerate(meas):\n",
      "                if(val !='999.9'): D[i,day-1] = 1 \n",
      "        counts = np.sum(D, axis = 1)\n",
      "        yield(stn, [yr, counts.tolist()])\n",
      "  \n",
      "    def second_reducer(self, stn, vectors):\n",
      "        D = {}\n",
      "        for (yr, counts) in vectors:\n",
      "            for i in range(len(meas_choosen)):\n",
      "                D[(yr, meas_choosen[i])] = counts[i]\n",
      "        yield(stn, dumps(D))\n",
      "  \n",
      "    def steps(self):\n",
      "        return [\n",
      "            self.mr(mapper=self.only_mapper,\n",
      "                    reducer=self.first_reducer),\n",
      "            self.mr(reducer=self.second_reducer)\n",
      "        ]     \n",
      "if __name__ == '__main__':\n",
      "    Collect_GSODStats.run()"
     ],
     "language": "python",
     "metadata": {},
     "outputs": [
      {
       "output_type": "stream",
       "stream": "stdout",
       "text": [
        "Overwriting collect_GSODStats.py\n"
       ]
      }
     ],
     "prompt_number": 12
    },
    {
     "cell_type": "code",
     "collapsed": false,
     "input": [
      "!python collect_GSODStats.py gsod.all.tsv_1024 > gsod_counts_local"
     ],
     "language": "python",
     "metadata": {},
     "outputs": [
      {
       "output_type": "stream",
       "stream": "stdout",
       "text": [
        "using configs in /home/ubuntu/.mrjob.conf\r\n",
        "creating tmp directory /tmp/collect_GSODStats.ubuntu.20140607.094711.793165\r\n"
       ]
      },
      {
       "output_type": "stream",
       "stream": "stdout",
       "text": [
        "writing to /tmp/collect_GSODStats.ubuntu.20140607.094711.793165/step-0-mapper_part-00000\r\n"
       ]
      },
      {
       "output_type": "stream",
       "stream": "stdout",
       "text": [
        "Counters from step 1:\r\n",
        "  (no counters found)\r\n",
        "writing to /tmp/collect_GSODStats.ubuntu.20140607.094711.793165/step-0-mapper-sorted\r\n",
        "> sort /tmp/collect_GSODStats.ubuntu.20140607.094711.793165/step-0-mapper_part-00000\r\n"
       ]
      },
      {
       "output_type": "stream",
       "stream": "stdout",
       "text": [
        "writing to /tmp/collect_GSODStats.ubuntu.20140607.094711.793165/step-0-reducer_part-00000\r\n",
        "Traceback (most recent call last):\r\n",
        "  File \"collect_GSODStats.py\", line 59, in <module>\r\n",
        "    Collect_GSODStats.run()\r\n",
        "  File \"/usr/local/lib/python2.7/dist-packages/mrjob/job.py\", line 494, in run\r\n",
        "    mr_job.execute()\r\n",
        "  File \"/usr/local/lib/python2.7/dist-packages/mrjob/job.py\", line 512, in execute\r\n",
        "    super(MRJob, self).execute()\r\n",
        "  File \"/usr/local/lib/python2.7/dist-packages/mrjob/launch.py\", line 147, in execute\r\n",
        "    self.run_job()\r\n",
        "  File \"/usr/local/lib/python2.7/dist-packages/mrjob/launch.py\", line 208, in run_job\r\n",
        "    runner.run()\r\n",
        "  File \"/usr/local/lib/python2.7/dist-packages/mrjob/runner.py\", line 458, in run\r\n",
        "    self._run()\r\n",
        "  File \"/usr/local/lib/python2.7/dist-packages/mrjob/sim.py\", line 195, in _run\r\n",
        "    self._invoke_step(step_num, 'reducer')\r\n",
        "  File \"/usr/local/lib/python2.7/dist-packages/mrjob/sim.py\", line 269, in _invoke_step\r\n",
        "    working_dir, env)\r\n",
        "  File \"/usr/local/lib/python2.7/dist-packages/mrjob/inline.py\", line 159, in _run_step\r\n",
        "    child_instance.execute()\r\n",
        "  File \"/usr/local/lib/python2.7/dist-packages/mrjob/job.py\", line 509, in execute\r\n",
        "    self.run_reducer(self.options.step_num)\r\n",
        "  File \"/usr/local/lib/python2.7/dist-packages/mrjob/job.py\", line 613, in run_reducer\r\n",
        "    for out_key, out_value in reducer(key, values) or ():\r\n",
        "  File \"collect_GSODStats.py\", line 41, in first_reducer\r\n",
        "    if(val !='999.9'): D[i,day-1] = 1 \r\n",
        "IndexError: index 4 is out of bounds for axis 0 with size 4\r\n"
       ]
      }
     ],
     "prompt_number": 13
    },
    {
     "cell_type": "code",
     "collapsed": false,
     "input": [
      "job_flow_id=find_waiting_flow(key_id,secret_key)\n",
      "!python collect_GSODStats.py -r emr --emr-job-flow-id $job_flow_id s3://vineel-bucket/gsod.all.tsv > gsod_counts"
     ],
     "language": "python",
     "metadata": {},
     "outputs": []
    }
   ],
   "metadata": {}
  }
 ]
}